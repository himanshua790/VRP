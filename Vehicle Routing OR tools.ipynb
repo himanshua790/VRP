{
 "cells": [
  {
   "cell_type": "markdown",
   "metadata": {},
   "source": [
    "# Importing Libraries "
   ]
  },
  {
   "cell_type": "code",
   "execution_count": null,
   "metadata": {},
   "outputs": [],
   "source": [
    "import pandas as pd\n",
    "import numpy as np\n",
    "import math\n",
    "# import time \n",
    "import matplotlib.pyplot as plt\n",
    "import matplotlib.cm as cm\n",
    "%matplotlib inline\n",
    "import warnings\n",
    "warnings.filterwarnings(\"ignore\")\n",
    "import gmplot\n",
    "from __future__ import division\n",
    "from __future__ import print_function\n",
    "import requests\n",
    "import json\n",
    "import urllib\n",
    "import ortools\n",
    "from ortools.constraint_solver import routing_enums_pb2\n",
    "from ortools.constraint_solver import pywrapcp\n",
    "from requests.structures import CaseInsensitiveDict\n",
    "from IPython.display import display, HTML\n",
    "\n",
    "import random"
   ]
  },
  {
   "cell_type": "markdown",
   "metadata": {},
   "source": [
    "# Importing Data "
   ]
  },
  {
   "cell_type": "code",
   "execution_count": null,
   "metadata": {},
   "outputs": [],
   "source": [
    "loca = pd.read_excel('Final_locality.xlsx')\n",
    "ad = pd.read_excel('updated_ad.xlsx')"
   ]
  },
  {
   "cell_type": "code",
   "execution_count": null,
   "metadata": {},
   "outputs": [],
   "source": [
    "\n",
    "Bhopal_localities = loca.loc[(loca.City == 'Bhopal')& (loca.wrong_data != True)]\n",
    "Bhopal_localities.drop(columns = 'Unnamed: 0',inplace = True)\n"
   ]
  },
  {
   "cell_type": "markdown",
   "metadata": {},
   "source": [
    "# Initializing Random Sample Data of 40 rows"
   ]
  },
  {
   "cell_type": "code",
   "execution_count": null,
   "metadata": {},
   "outputs": [],
   "source": [
    "Bhopal_ad = ad.loc[(ad.LocalityId.isin(Bhopal_localities.Id).astype(int)) &(ad.difference >=0) &(ad.Error == False) ]\n",
    "Sample_ad=Bhopal_ad.sample(n=40)\n",
    "\n",
    "# Adding Pincode Column\n",
    "for index, row in Sample_ad.iterrows():\n",
    "    pin = loca[loca.Id == row['LocalityId']].pincode.values[0]\n",
    "    Sample_ad.at[index,'Pincode'] = pin\n",
    "\n",
    "# Variable with the Longitude and Latitude\n",
    "Sample =Sample_ad.loc[:,['Id','Latitude','Longitude','Pincode']]\n",
    "#Fixing Index of Sample\n",
    "Sample.reset_index(drop=True, inplace=True)\n"
   ]
  },
  {
   "cell_type": "markdown",
   "metadata": {},
   "source": [
    "## Creating Distance Matrix for with Haversine Distance"
   ]
  },
  {
   "cell_type": "code",
   "execution_count": 5,
   "metadata": {},
   "outputs": [],
   "source": [
    "def create_data_model(vehicle_no=4):\n",
    "    \"\"\"Stores the data for the problem.\"\"\"\n",
    "    data = {}\n",
    "    data['distance_matrix'] = []\n",
    "    dist = []\n",
    "    for i in range(len(Sample)):\n",
    "        matrix_list=[]\n",
    "        for j in range(len(Sample)):\n",
    "            d1 = Sample.iloc[i]\n",
    "            d2 = Sample.iloc[j]\n",
    "            lat1 = d1.Latitude\n",
    "            lon1 = d1.Longitude\n",
    "            lat2 = d2.Latitude\n",
    "            lon2 = d2.Longitude\n",
    "            dist.append(haversine_distance(lat1, lon1, lat2, lon2))\n",
    "        data['distance_matrix'].append(dist)\n",
    "        dist=[]\n",
    "    data['num_vehicles'] = vehicle_no\n",
    "    data['depot'] = 0\n",
    "    return data"
   ]
  },
  {
   "cell_type": "markdown",
   "metadata": {},
   "source": [
    "## Open source Distance Matrix OSRM "
   ]
  },
  {
   "cell_type": "markdown",
   "metadata": {},
   "source": [
    "#### https://github.com/Project-OSRM/osrm-backend/blob/master/docs/http.md"
   ]
  },
  {
   "cell_type": "code",
   "execution_count": 14,
   "metadata": {},
   "outputs": [],
   "source": [
    "def open_dm(vehicle_no=4,data=None):\n",
    "    Sample_x = data[:]\n",
    "    str_x =''\n",
    "    for x, y in zip(Sample_x['Latitude'], Sample_x['Longitude']):\n",
    "        str_x+=f'{y},{x};'\n",
    "    str_x = str_x[:-1]\n",
    "    \n",
    "    # url_x gives distace matrix \n",
    "    url_x = f\"http://router.project-osrm.org/table/v1/driving/{str_x}?annotations=distance\"\n",
    "    resp = requests.post(url_x)\n",
    "    data_x = json.loads(resp.text)\n",
    "    data = {}\n",
    "    lol = data_x['distances']\n",
    "    for i in range(len(lol)):\n",
    "        for j in range(len(lol[i])):\n",
    "            lol[i][j]=lol[i][j]/1000\n",
    "    data['distance_matrix'] = lol[:]\n",
    "    data['num_vehicles'] = vehicle_no\n",
    "    data['depot'] = 0\n",
    "    data['Id'] = Sample.to_dict()['Id']\n",
    "    return data"
   ]
  },
  {
   "cell_type": "markdown",
   "metadata": {},
   "source": [
    "# Vehicle Routing Problem Implementation"
   ]
  },
  {
   "cell_type": "code",
   "execution_count": 15,
   "metadata": {},
   "outputs": [],
   "source": [
    "def get_routes(solution, routing, manager):\n",
    "    \"\"\"Get vehicle routes from a solution and store them xin an array.\"\"\"\n",
    "    routes = []\n",
    "    for route_nbr in range(routing.vehicles()):\n",
    "        index = routing.Start(route_nbr)\n",
    "        route = [manager.IndexToNode(index)]\n",
    "        while not routing.IsEnd(index):\n",
    "            index = solution.Value(routing.NextVar(index))\n",
    "            route.append(manager.IndexToNode(index))\n",
    "        routes.append(route)\n",
    "    return routes"
   ]
  },
  {
   "cell_type": "code",
   "execution_count": 16,
   "metadata": {},
   "outputs": [],
   "source": [
    "def print_solution(data, manager, routing, solution):\n",
    "    \"\"\"Prints solution on console.\"\"\"\n",
    "    max_route_distance = 0\n",
    "    for vehicle_id in range(data['num_vehicles']):\n",
    "        index = routing.Start(vehicle_id)\n",
    "        plan_output = 'Route for vehicle {}:\\n'.format(vehicle_id)\n",
    "        route_distance = 0\n",
    "        while not routing.IsEnd(index):\n",
    "            plan_output += ' {} -> '.format(manager.IndexToNode(index))\n",
    "            previous_index = index\n",
    "            index = solution.Value(routing.NextVar(index))\n",
    "            route_distance += routing.GetArcCostForVehicle(\n",
    "                previous_index, index, vehicle_id)\n",
    "        plan_output += '{}\\n'.format(manager.IndexToNode(index))\n",
    "        plan_output += 'Distance of the route: {}Km\\n'.format(route_distance)\n",
    "        print(plan_output)\n",
    "        max_route_distance = max(route_distance, max_route_distance)\n",
    "    print('Maximum of the route distances: {}Km'.format(max_route_distance))"
   ]
  },
  {
   "cell_type": "code",
   "execution_count": 17,
   "metadata": {},
   "outputs": [],
   "source": [
    "def distance_callback(from_index, to_index):\n",
    "    \"\"\"Returns the distance between the two nodes.\"\"\"\n",
    "    # Convert from routing variable Index to distance matrix NodeIndex.\n",
    "    from_node = manager.IndexToNode(from_index)\n",
    "    to_node = manager.IndexToNode(to_index)\n",
    "    return data['distance_matrix'][from_node][to_node]"
   ]
  },
  {
   "cell_type": "markdown",
   "metadata": {},
   "source": [
    "# Original VRP w/o any constrainsts  "
   ]
  },
  {
   "cell_type": "code",
   "execution_count": 31,
   "metadata": {},
   "outputs": [
    {
     "name": "stdout",
     "output_type": "stream",
     "text": [
      "(40, 4, [0, 0, 0, 0], [0, 0, 0, 0])\n",
      "Route for vehicle 0:\n",
      " 0 ->  24 ->  27 ->  6 ->  20 ->  34 ->  18 ->  5 ->  3 ->  35 ->  17 ->  26 ->  37 ->  38 -> 0\n",
      "Distance of the route: 35Km\n",
      "\n",
      "Route for vehicle 1:\n",
      " 0 ->  4 ->  14 ->  25 ->  22 ->  28 ->  21 -> 0\n",
      "Distance of the route: 38Km\n",
      "\n",
      "Route for vehicle 2:\n",
      " 0 ->  8 ->  23 ->  9 ->  39 ->  13 ->  16 ->  2 ->  7 -> 0\n",
      "Distance of the route: 40Km\n",
      "\n",
      "Route for vehicle 3:\n",
      " 0 ->  12 ->  19 ->  31 ->  29 ->  11 ->  15 ->  10 ->  36 ->  1 ->  30 ->  32 ->  33 -> 0\n",
      "Distance of the route: 39Km\n",
      "\n",
      "Maximum of the route distances: 40Km\n"
     ]
    },
    {
     "data": {
      "text/plain": [
       "[[0, 24, 27, 6, 20, 34, 18, 5, 3, 35, 17, 26, 37, 38, 0],\n",
       " [0, 4, 14, 25, 22, 28, 21, 0],\n",
       " [0, 8, 23, 9, 39, 13, 16, 2, 7, 0],\n",
       " [0, 12, 19, 31, 29, 11, 15, 10, 36, 1, 30, 32, 33, 0]]"
      ]
     },
     "execution_count": 31,
     "metadata": {},
     "output_type": "execute_result"
    }
   ],
   "source": [
    "vehicle_no = 4 \n",
    "df=Sample[:]\n",
    "data = open_dm(vehicle_no,df)\n",
    "data['starts'] =[0,0,0,0]\n",
    "data['ends'] = [0,0,0,0]\n",
    "print((len(data['distance_matrix']),data['num_vehicles'], data['starts'],data[\"ends\"]))\n",
    "#print(data)\n",
    "# Create the routing index manager.\n",
    "# if len(start)!=vehicle_no or len(end)!= vehicle_no:\n",
    "#     print('Problem with Start and End \\n Initializing start and end points of zero')\n",
    "#     manager = pywrapcp.RoutingIndexManager(len(data['distance_matrix']),data['num_vehicles'], data['depot'])\n",
    "# else:\n",
    "#     manager = pywrapcp.RoutingIndexManager(len(data['distance_matrix']),data['num_vehicles'], data['starts'],data[\"ends\"])\n",
    "\n",
    "manager = pywrapcp.RoutingIndexManager(len(data['distance_matrix']),data['num_vehicles'], data['starts'],data[\"ends\"])\n",
    "routing = pywrapcp.RoutingModel(manager)\n",
    "\n",
    "transit_callback_index = routing.RegisterTransitCallback(distance_callback)\n",
    "# Define cost of each arc.\n",
    "routing.SetArcCostEvaluatorOfAllVehicles(transit_callback_index)\n",
    "# Add Distance constraint.\n",
    "dimension_name = 'Distance'\n",
    "routing.AddDimension(\n",
    "    transit_callback_index,\n",
    "    0,  # no slack\n",
    "    10000,  # vehicle maximum travel distance\n",
    "    True,  # start cumul to zero\n",
    "    dimension_name)\n",
    "distance_dimension = routing.GetDimensionOrDie(dimension_name)\n",
    "distance_dimension.SetGlobalSpanCostCoefficient(100)\n",
    "# Setting first solution heuristic.\n",
    "search_parameters = pywrapcp.DefaultRoutingSearchParameters()\n",
    "search_parameters.first_solution_strategy = (\n",
    "    routing_enums_pb2.FirstSolutionStrategy.PATH_CHEAPEST_ARC)\n",
    "# Solve the problem.\n",
    "solution = routing.SolveWithParameters(search_parameters)\n",
    "# Print solution on console.\n",
    "if solution:\n",
    "    print_solution(data, manager, routing, solution)\n",
    "else:\n",
    "    print('No Soluchan for you')\n",
    "get_routes(solution, routing, manager)"
   ]
  },
  {
   "cell_type": "code",
   "execution_count": 33,
   "metadata": {},
   "outputs": [],
   "source": [
    "def show_solution(vehicle_no,df,start=[],end = []):\n",
    "    if len(start)!=vehicle_no or len(end)!= vehicle_no:\n",
    "        print('length of start list/ endlist does not match with number of vehicle')\n",
    "        print('initializing start and end to 0')\n",
    "        start = [0 for x in range(vehicle_no)]\n",
    "        \n",
    "        end = [0 for x in range(vehicle_no)]\n",
    "    \n",
    "    data = open_dm(vehicle_no,df)\n",
    "    data['starts'] =start[:]\n",
    "    data['ends'] = end[:]\n",
    "    print('Start_list:',data['starts'])\n",
    "    print('Ends_list:',data['ends'])\n",
    "    \n",
    "    \n",
    "    manager = pywrapcp.RoutingIndexManager(len(data['distance_matrix']),data['num_vehicles'], data['starts'],data[\"ends\"])\n",
    "    \n",
    "    routing = pywrapcp.RoutingModel(manager)\n",
    "\n",
    "    transit_callback_index = routing.RegisterTransitCallback(distance_callback)\n",
    "    # Define cost of each arc.\n",
    "    routing.SetArcCostEvaluatorOfAllVehicles(transit_callback_index)\n",
    "    # Add Distance constraint.\n",
    "    dimension_name = 'Distance'\n",
    "    routing.AddDimension(\n",
    "        transit_callback_index,\n",
    "        0,  # no slack\n",
    "        10000,  # vehicle maximum travel distance\n",
    "        True,  # start cumul to zero\n",
    "        dimension_name)\n",
    "    distance_dimension = routing.GetDimensionOrDie(dimension_name)\n",
    "    distance_dimension.SetGlobalSpanCostCoefficient(100)\n",
    "    # Setting first solution heuristic.\n",
    "    search_parameters = pywrapcp.DefaultRoutingSearchParameters()\n",
    "    search_parameters.first_solution_strategy = (routing_enums_pb2.FirstSolutionStrategy.PATH_CHEAPEST_ARC)\n",
    "    # Solve the problem.\n",
    "    solution = routing.SolveWithParameters(search_parameters)\n",
    "    # Print solution on console.\n",
    "    if solution:\n",
    "        print_solution(data, manager, routing, solution)\n",
    "    return get_routes(solution, routing, manager)"
   ]
  },
  {
   "cell_type": "code",
   "execution_count": 39,
   "metadata": {},
   "outputs": [
    {
     "name": "stdout",
     "output_type": "stream",
     "text": [
      "length of start list/ endlist does not match with number of vehicle\n",
      "initializing start and end to 0\n",
      "Start_list: [0, 0, 0]\n",
      "Ends_list: [0, 0, 0]\n",
      "Route for vehicle 0:\n",
      " 0 ->  2 ->  12 ->  19 ->  31 ->  29 ->  10 ->  11 ->  15 ->  28 -> 0\n",
      "Distance of the route: 52Km\n",
      "\n",
      "Route for vehicle 1:\n",
      " 0 ->  33 ->  27 ->  6 ->  20 ->  5 ->  18 ->  3 ->  9 ->  35 ->  16 ->  1 ->  36 ->  13 ->  39 ->  30 ->  32 ->  24 ->  7 -> 0\n",
      "Distance of the route: 51Km\n",
      "\n",
      "Route for vehicle 2:\n",
      " 0 ->  38 ->  23 ->  8 ->  17 ->  26 ->  37 ->  4 ->  14 ->  25 ->  34 ->  22 ->  21 -> 0\n",
      "Distance of the route: 48Km\n",
      "\n",
      "Maximum of the route distances: 52Km\n"
     ]
    },
    {
     "data": {
      "text/plain": [
       "[[0, 2, 12, 19, 31, 29, 10, 11, 15, 28, 0],\n",
       " [0, 33, 27, 6, 20, 5, 18, 3, 9, 35, 16, 1, 36, 13, 39, 30, 32, 24, 7, 0],\n",
       " [0, 38, 23, 8, 17, 26, 37, 4, 14, 25, 34, 22, 21, 0]]"
      ]
     },
     "execution_count": 39,
     "metadata": {},
     "output_type": "execute_result"
    }
   ],
   "source": [
    "show_solution(3,Sample)"
   ]
  },
  {
   "cell_type": "code",
   "execution_count": 40,
   "metadata": {},
   "outputs": [
    {
     "name": "stdout",
     "output_type": "stream",
     "text": [
      "Start_list: [12, 27, 23]\n",
      "Ends_list: [0, 0, 0]\n",
      "Route for vehicle 0:\n",
      " 12 ->  16 ->  11 ->  30 ->  32 ->  20 ->  13 ->  3 ->  33 ->  18 ->  24 ->  9 ->  36 ->  31 ->  17 ->  2 ->  37 ->  14 -> 0\n",
      "Distance of the route: 32Km\n",
      "\n",
      "Route for vehicle 1:\n",
      " 27 ->  4 ->  19 ->  6 ->  10 ->  28 ->  38 ->  34 ->  25 ->  29 ->  22 -> 0\n",
      "Distance of the route: 40Km\n",
      "\n",
      "Route for vehicle 2:\n",
      " 23 ->  35 ->  21 ->  7 ->  5 ->  15 ->  26 ->  8 ->  1 ->  39 -> 0\n",
      "Distance of the route: 41Km\n",
      "\n",
      "Maximum of the route distances: 41Km\n"
     ]
    },
    {
     "data": {
      "text/plain": [
       "[[12, 16, 11, 30, 32, 20, 13, 3, 33, 18, 24, 9, 36, 31, 17, 2, 37, 14, 0],\n",
       " [27, 4, 19, 6, 10, 28, 38, 34, 25, 29, 22, 0],\n",
       " [23, 35, 21, 7, 5, 15, 26, 8, 1, 39, 0]]"
      ]
     },
     "execution_count": 40,
     "metadata": {},
     "output_type": "execute_result"
    }
   ],
   "source": [
    "show_solution(3,Sample,[12,27,23],[0,0,0])"
   ]
  },
  {
   "cell_type": "markdown",
   "metadata": {},
   "source": [
    "# Additional Features"
   ]
  },
  {
   "cell_type": "markdown",
   "metadata": {},
   "source": [
    "### 1. Add/Remove a visit from a route\n",
    "### 2.  Find Suitable Route for a visit"
   ]
  },
  {
   "cell_type": "markdown",
   "metadata": {},
   "source": [
    "# 1. Add / Remove a visit form a Route.\n",
    "    \n",
    "    1. Add visit in a particular route:\n",
    "        How?:\n",
    "            find distance from other points in route and add it to distance matrix of a route.\n",
    "            them find suitable path for a vehicle.\n",
    "            \n",
    "        Conditions:\n",
    "            change starting point of Route from last completed request and end trip at Depot.\n",
    "            \n",
    "    1. Remove visit in a particular route:\n",
    "        How?:\n",
    "            Remove point from distance matrixs and then recalculate path.\n",
    "            \n",
    "        Conditions:\n",
    "            change starting point of Route from last completed request and end trip at Depot.\n",
    "        \n",
    "       \n"
   ]
  },
  {
   "cell_type": "markdown",
   "metadata": {},
   "source": [
    "## Modified VRP with start and end Point for Single Route"
   ]
  },
  {
   "cell_type": "code",
   "execution_count": null,
   "metadata": {},
   "outputs": [],
   "source": [
    " # Saving Routes\n",
    "Original_Routes = routes[:]"
   ]
  },
  {
   "cell_type": "code",
   "execution_count": null,
   "metadata": {},
   "outputs": [],
   "source": [
    "#routes = Original_Routes[:]"
   ]
  },
  {
   "cell_type": "code",
   "execution_count": null,
   "metadata": {},
   "outputs": [],
   "source": [
    "def add_visit(route_number,visits_to_add = 1):\n",
    "    df = pd.DataFrame()\n",
    "    global Sample\n",
    "    temp_data = []\n",
    "    columns = list(Sample)\n",
    "    index_temp = len(Sample)\n",
    "    routes = Original_Routes\n",
    "    if route_number != None or route_number <= routing.vehicles():\n",
    "        \n",
    "        print('Selected Route is:',route_number)\n",
    "        df = Sample.iloc[routes[route_number]]\n",
    "        for i in range(visits_to_add):\n",
    "            placeholder = 1\n",
    "            while placeholder is not None:\n",
    "                try:\n",
    "                    id_1 = int(input('Enter ID:'))\n",
    "                    lat = float(input('Enter Latitude:'))\n",
    "                    long = float(input('Enter Longitude:'))\n",
    "                    pin = int(input('Enter Pincode:'))\n",
    "                    placeholder = None\n",
    "                except Exception as e:\n",
    "                    placeholder = e\n",
    "                    print('error occurred try again!')\n",
    "                    continue\n",
    "            \n",
    "            values = [id_1, lat, long, pin]\n",
    "            zipped = zip(columns, values)\n",
    "            a_dictionary = dict(zipped)\n",
    "            print(a_dictionary)\n",
    "            temp_data.append(a_dictionary)\n",
    "            #remove Comment below to append data to Sample Too\n",
    "            Sample.loc[index_temp+1+i] = values\n",
    "            df.loc[index_temp+1+i] = values\n",
    "            #display(HTML(df.to_html()))\n",
    "    else:\n",
    "        print('error! check index of route')\n",
    "    \n",
    "    return df"
   ]
  },
  {
   "cell_type": "code",
   "execution_count": null,
   "metadata": {},
   "outputs": [],
   "source": [
    "def update_routes(main_routes,updated_route,route_index):\n",
    "    main_routes[route_index] = updated_route\n",
    "    return main_routes"
   ]
  },
  {
   "cell_type": "markdown",
   "metadata": {},
   "source": [
    "# Add Visit to a Route"
   ]
  },
  {
   "cell_type": "markdown",
   "metadata": {},
   "source": [
    "#### Run Script Below to Add visit "
   ]
  },
  {
   "cell_type": "code",
   "execution_count": null,
   "metadata": {},
   "outputs": [],
   "source": [
    "print(routes)\n",
    "route_number  = int(input(f'Enter Route index to Update:\\n'))\n",
    "no_of_visit  = int(input(f'Enter No of Visits to add in route:{route_number}\\n'))\n",
    "\n",
    "#Create Dataframe with exisiting route.\n",
    "add_visit_df  = add_visit(route_number,visits_to_add = no_of_visit)\n",
    "add_visit_df.drop_duplicates(inplace = True)\n",
    "display(HTML(add_visit_df.to_html()))\n",
    "print('Enter space seperated Index to mark as completed.')\n",
    "\n",
    "# Inform Completed Visits\n",
    "try:\n",
    "    completed_visit = [int(x) for x in input().split()]\n",
    "except:\n",
    "    completed_visit = None\n",
    "    print(\"Completed_visit is None\")\n",
    "    \n",
    "#checking completed visit and removing depot from list\n",
    "depot = 0\n",
    "try :\n",
    "    completed_visit.remove(depot)\n",
    "except ValueError:\n",
    "    print(\"{depot} Not Found in List\")\n",
    "    \n",
    "# storing original index in 'index' column\n",
    "add_visit_df['index'] = add_visit_df.index\n",
    "\n",
    "# Removing Completed visits from DataFrame\n",
    "add_visit_df = add_visit_df[~add_visit_df['index'].isin(completed_visit[:-1])]\n",
    "add_visit_df = add_visit_df.reset_index()\n",
    "\n",
    "# Initializing start index to reroute with completed visit list.\n",
    "if completed_visit:\n",
    "    start_index = add_visit_df[add_visit_df['index']==completed_visit[-1]].index.values[0]\n",
    "else:\n",
    "    start_index = 0\n",
    "\n",
    "# Rerouting with Modified Dataframe\n",
    "route_to_update  = show_solution(1,add_visit_df,start=[start_index])[0]\n",
    "\n",
    "# Fixing indexs\n",
    "index_dict = add_visit_df['index'].to_dict()\n",
    "\n",
    "temp_route = []\n",
    "for i in route_to_update:\n",
    "    x = index_dict[i]\n",
    "    temp_route.append(x)\n",
    "route_to_update = temp_route[:]\n",
    "\n",
    "print('route to update:',route_to_update)\n",
    "\n",
    "#Routes of Main Solution\n",
    "print('Original\\n',Original_Routes[route_number])\n",
    "#updated Solution\n",
    "route_to_update = [0]+ completed_visit[:-1] + route_to_update\n",
    "routes_x = update_routes(routes,route_to_update,route_number)\n",
    "routes = routes_x[:]"
   ]
  },
  {
   "cell_type": "markdown",
   "metadata": {},
   "source": [
    "# Removing Visit "
   ]
  },
  {
   "cell_type": "code",
   "execution_count": null,
   "metadata": {},
   "outputs": [],
   "source": [
    "def remove_visit(route_index):\n",
    "    data = Sample.iloc[routes[route_index]]\n",
    "    display(HTML(data.to_html()))\n",
    "    print('Enter Index to Remove \\n')\n",
    "    list_to_remove = [int(x) for x in input().split()]\n",
    "    print('Visits Removed:',list_to_remove)\n",
    "    return data[~data.index.isin(list_to_remove)]"
   ]
  },
  {
   "cell_type": "markdown",
   "metadata": {},
   "source": [
    "#### Run script below to remove visits"
   ]
  },
  {
   "cell_type": "code",
   "execution_count": null,
   "metadata": {},
   "outputs": [],
   "source": [
    "print(routes)\n",
    "route_number  = int(input(f'Enter Route index to Update:\\n'))\n",
    "\n",
    "#Create Dataframe with exisiting route and removing visits in it.\n",
    "df  = remove_visit(route_number)\n",
    "df.drop_duplicates(inplace = True)\n",
    "display(HTML(df.to_html()))\n",
    "\n",
    "# Inform Completed Visits\n",
    "print('Enter space seperated Index to mark as completed.')\n",
    "try:\n",
    "    completed_visit = [int(x) for x in input().split()]\n",
    "except:\n",
    "    completed_visit = None\n",
    "    print(\"Completed_visit is None\")\n",
    "# removing depot from list\n",
    "depot = 0\n",
    "try :\n",
    "    completed_visit.remove(depot)\n",
    "except ValueError:\n",
    "    print(\"zero Not Found in List\")\n",
    "print('Completed Visits are', completed_visit)\n",
    "# Storing Original Index in 'index' column \n",
    "df['index'] = df.index\n",
    "\n",
    "# Removing Completed Visits from DataFrame\n",
    "df = df[~df['index'].isin(completed_visit[:-1])]\n",
    "df = df.reset_index()\n",
    "if completed_visit:\n",
    "    start_index = df[df['index']==completed_visit[-1]].index.values[0]\n",
    "else:\n",
    "    start_index = 0\n",
    "\n",
    "# Rerouting with Modified Route Dataframe\n",
    "route_to_update  = show_solution(1,df,start=[start_index])[0]\n",
    "\n",
    "# Fxing Dataframe Index\n",
    "index_dict = df['index'].to_dict()\n",
    "temp_route = []\n",
    "for i in route_to_update:\n",
    "    x = index_dict[i]\n",
    "    temp_route.append(x)\n",
    "route_to_update = temp_route[:]\n",
    "\n",
    "print('route to update:',route_to_update)\n",
    "\n",
    "#Routes of Main Solution\n",
    "print('Original\\n',Original_Routes[route_number])\n",
    "#updated Solution\n",
    "route_to_update = [0]+ completed_visit[:-1] + route_to_update\n",
    "routes_y = update_routes(routes,route_to_update,route_number)\n",
    "# Updating Original Routes\n",
    "routes = routes_y[:]"
   ]
  },
  {
   "cell_type": "code",
   "execution_count": null,
   "metadata": {},
   "outputs": [],
   "source": [
    "Original_Routes[0]"
   ]
  },
  {
   "cell_type": "code",
   "execution_count": null,
   "metadata": {},
   "outputs": [],
   "source": [
    "routes_y[0]"
   ]
  },
  {
   "cell_type": "markdown",
   "metadata": {},
   "source": [
    "\n",
    "# Plotting Maps"
   ]
  },
  {
   "cell_type": "code",
   "execution_count": null,
   "metadata": {},
   "outputs": [],
   "source": [
    "predefined_colors = ['#1890FF','#52c41a','#faad14','#ff4d4f','#69717a','#ff7f27']"
   ]
  },
  {
   "cell_type": "markdown",
   "metadata": {},
   "source": [
    "## Adding Path to the Map"
   ]
  },
  {
   "cell_type": "code",
   "execution_count": null,
   "metadata": {},
   "outputs": [],
   "source": [
    "import folium\n",
    "import polyline"
   ]
  },
  {
   "cell_type": "markdown",
   "metadata": {},
   "source": [
    "#### Extacting route path with start and end points. "
   ]
  },
  {
   "cell_type": "markdown",
   "metadata": {},
   "source": [
    "## Plotting Map with Path "
   ]
  },
  {
   "cell_type": "code",
   "execution_count": null,
   "metadata": {},
   "outputs": [],
   "source": [
    "def plot_routes(routes):\n",
    "    gmap3 = gmplot.GoogleMapPlotter(23.1993477,77.2658056, 13)\n",
    "    #ploting updated routes\n",
    "    # routes = Original_Routes\n",
    "    # scatter method of map object\n",
    "    # scatter points on the google map\n",
    "    for i in range(len(routes)):\n",
    "        latitude_list = Sample.iloc[routes[i]]['Latitude'].values\n",
    "        longitude_list = Sample.iloc[routes[i]]['Longitude'].values\n",
    "        center_lat = latitude_list[0]\n",
    "        center_long = longitude_list[0]\n",
    "        #gmap3.scatter(center_lat , center_long, '# 00000',size = 100, marker = False )\n",
    "        gmap3.scatter( latitude_list, longitude_list, '# FF0000',size = 40, marker = False )\n",
    "        for j in range(len(latitude_list)):\n",
    "            start_lat = latitude_list[j]\n",
    "            start_long = longitude_list[j]\n",
    "            #print(f'start_lat:{start_lat}, start_long{start_long}')\n",
    "            try:\n",
    "                stop_lat = latitude_list[j+1]\n",
    "                stop_long = longitude_list[j+1]\n",
    "                #print(f'stop_lat:{stop_lat}, stop_long{stop_long}')\n",
    "            except:\n",
    "                stop_lat = latitude_list[0]\n",
    "                stop_long = longitude_list[0]\n",
    "                #print('try triggered!')\n",
    "                #print(f'stop_lat:{stop_lat}, stop_long{stop_long}')\n",
    "\n",
    "            route_df = get_route(start_long, start_lat, stop_long, stop_lat)\n",
    "            #print(len(route_df))\n",
    "            route_latitude_list = route_df['Latitude'].values\n",
    "            route_longitude_list = route_df['Longitude'].values\n",
    "            #print(len(route_longitude_list))\n",
    "    #         gmap3.scatter( route_latitude_list, route_longitude_list, '# FF0000',size = 0, marker = False )\n",
    "            gmap3.plot(route_latitude_list, route_longitude_list,color=predefined_colors[i] , edge_width = 2.5)\n",
    "\n",
    "    gmap3.draw( r\"C:\\Users\\himan_ucrrloo\\OneDrive\\Desktop\\x_routes.html\" )\n",
    "    print('Route Ploted on x_routes.html')"
   ]
  },
  {
   "cell_type": "code",
   "execution_count": null,
   "metadata": {},
   "outputs": [],
   "source": [
    "#plot route plot\n",
    "plot_routes(routes)"
   ]
  },
  {
   "cell_type": "markdown",
   "metadata": {},
   "source": [
    "# Adding Time Window in VRP "
   ]
  },
  {
   "cell_type": "code",
   "execution_count": 53,
   "metadata": {},
   "outputs": [],
   "source": [
    "def open_tm(vehicle_no=4,data=None):\n",
    "    Sample_x = data[:]\n",
    "    str_x =''\n",
    "    for x, y in zip(Sample_x['Latitude'], Sample_x['Longitude']):\n",
    "        str_x+=f'{y},{x};'\n",
    "    str_x = str_x[:-1]\n",
    "    \n",
    "    # url_y gives duration matrix\n",
    "    url_y = f\"http://router.project-osrm.org/table/v1/driving/{str_x}\"      \n",
    "    resp = requests.post(url_y)\n",
    "    data_y = json.loads(resp.text)\n",
    "    lol = data_y['durations']\n",
    "    for i in range(len(lol)):\n",
    "        for j in range(len(lol[i])):\n",
    "            lol[i][j]=math.ceil(lol[i][j]/60)\n",
    "    data = {}     \n",
    "    data['time_matrix'] = lol[:]\n",
    "    data['num_vehicles'] = vehicle_no\n",
    "    data['depot'] = 0\n",
    "    data['Id'] = Sample.to_dict()['Id']\n",
    "\n",
    "    #adding Random Time Interval:\n",
    "\n",
    "    data['time_windows'] = random_time_window(len(lol),0,540,30)\n",
    "    return data\n",
    "\n",
    "def random_time_window(number,start_time,end_time,time_interval):\n",
    "    temp_list = [(0,0)]\n",
    "    for x in range(number-1):\n",
    "        i = random.randrange(start_time,end_time,time_interval)\n",
    "        temp_list.append((i,i+time_interval))\n",
    "    return temp_list[:]\n",
    "        "
   ]
  },
  {
   "cell_type": "code",
   "execution_count": 54,
   "metadata": {},
   "outputs": [],
   "source": [
    "\n",
    "def print_solution(data, manager, routing, solution):\n",
    "    \"\"\"Prints solution on console.\"\"\"\n",
    "    time_dimension = routing.GetDimensionOrDie('Time')\n",
    "    total_time = 0\n",
    "    for vehicle_id in range(data['num_vehicles']):\n",
    "        index = routing.Start(vehicle_id)\n",
    "        plan_output = 'Route for vehicle {}:\\n'.format(vehicle_id)\n",
    "        while not routing.IsEnd(index):\n",
    "            time_var = time_dimension.CumulVar(index)\n",
    "            plan_output += '{0} Time({1},{2}) -> '.format(\n",
    "                manager.IndexToNode(index), solution.Min(time_var),\n",
    "                solution.Max(time_var))\n",
    "            index = solution.Value(routing.NextVar(index))\n",
    "        time_var = time_dimension.CumulVar(index)\n",
    "        plan_output += '{0} Time({1},{2})\\n'.format(manager.IndexToNode(index),\n",
    "                                                    solution.Min(time_var),\n",
    "                                                    solution.Max(time_var))\n",
    "        plan_output += 'Time of the route: {}min\\n'.format(\n",
    "            solution.Min(time_var))\n",
    "        print(plan_output)\n",
    "        total_time += solution.Min(time_var)\n",
    "    print('Total time of all routes: {}min'.format(total_time))\n",
    "\n",
    "\n"
   ]
  },
  {
   "cell_type": "code",
   "execution_count": 55,
   "metadata": {},
   "outputs": [],
   "source": [
    "\n",
    "def create_data_model():\n",
    "    \"\"\"Stores the data for the problem.\"\"\"\n",
    "    data = {}\n",
    "    data['time_matrix'] = [\n",
    "        [0, 6, 9, 8, 7, 3, 6, 2, 3, 2, 6, 6, 4, 4, 5, 9, 7],\n",
    "        [6, 0, 8, 3, 2, 6, 8, 4, 8, 8, 13, 7, 5, 8, 12, 10, 14],\n",
    "        [9, 8, 0, 11, 10, 6, 3, 9, 5, 8, 4, 15, 14, 13, 9, 18, 9],\n",
    "        [8, 3, 11, 0, 1, 7, 10, 6, 10, 10, 14, 6, 7, 9, 14, 6, 16],\n",
    "        [7, 2, 10, 1, 0, 6, 9, 4, 8, 9, 13, 4, 6, 8, 12, 8, 14],\n",
    "        [3, 6, 6, 7, 6, 0, 2, 3, 2, 2, 7, 9, 7, 7, 6, 12, 8],\n",
    "        [6, 8, 3, 10, 9, 2, 0, 6, 2, 5, 4, 12, 10, 10, 6, 15, 5],\n",
    "        [2, 4, 9, 6, 4, 3, 6, 0, 4, 4, 8, 5, 4, 3, 7, 8, 10],\n",
    "        [3, 8, 5, 10, 8, 2, 2, 4, 0, 3, 4, 9, 8, 7, 3, 13, 6],\n",
    "        [2, 8, 8, 10, 9, 2, 5, 4, 3, 0, 4, 6, 5, 4, 3, 9, 5],\n",
    "        [6, 13, 4, 14, 13, 7, 4, 8, 4, 4, 0, 10, 9, 8, 4, 13, 4],\n",
    "        [6, 7, 15, 6, 4, 9, 12, 5, 9, 6, 10, 0, 1, 3, 7, 3, 10],\n",
    "        [4, 5, 14, 7, 6, 7, 10, 4, 8, 5, 9, 1, 0, 2, 6, 4, 8],\n",
    "        [4, 8, 13, 9, 8, 7, 10, 3, 7, 4, 8, 3, 2, 0, 4, 5, 6],\n",
    "        [5, 12, 9, 14, 12, 6, 6, 7, 3, 3, 4, 7, 6, 4, 0, 9, 2],\n",
    "        [9, 10, 18, 6, 8, 12, 15, 8, 13, 9, 13, 3, 4, 5, 9, 0, 9],\n",
    "        [7, 14, 9, 16, 14, 8, 5, 10, 6, 5, 4, 10, 8, 6, 2, 9, 0],\n",
    "    ]\n",
    "    data['time_windows'] = [\n",
    "        (0, 5),  # depot\n",
    "        (7, 12),  # 1\n",
    "        (10, 15),  # 2\n",
    "        (16, 18),  # 3\n",
    "        (10, 13),  # 4\n",
    "        (0, 5),  # 5\n",
    "        (5, 10),  # 6\n",
    "        (0, 4),  # 7\n",
    "        (5, 10),  # 8\n",
    "        (0, 3),  # 9\n",
    "        (10, 16),  # 10\n",
    "        (10, 15),  # 11\n",
    "        (0, 5),  # 12\n",
    "        (5, 10),  # 13\n",
    "        (7, 8),  # 14\n",
    "        (10, 15),  # 15\n",
    "        (11, 15),  # 16\n",
    "    ]\n",
    "    data['num_vehicles'] = 4\n",
    "    data['depot'] = 0\n",
    "    return data\n"
   ]
  },
  {
   "cell_type": "code",
   "execution_count": 56,
   "metadata": {},
   "outputs": [],
   "source": [
    "# Create and register a transit callback.\n",
    "def time_callback(from_index, to_index):\n",
    "    \"\"\"Returns the travel time between the two nodes.\"\"\"\n",
    "    # Convert from routing variable Index to time matrix NodeIndex.\n",
    "    from_node = manager.IndexToNode(from_index)\n",
    "    to_node = manager.IndexToNode(to_index)\n",
    "    return data['time_matrix'][from_node][to_node]\n"
   ]
  },
  {
   "cell_type": "code",
   "execution_count": 57,
   "metadata": {},
   "outputs": [
    {
     "ename": "IndentationError",
     "evalue": "unexpected indent (<ipython-input-57-68ae18003875>, line 8)",
     "output_type": "error",
     "traceback": [
      "\u001b[1;36m  File \u001b[1;32m\"<ipython-input-57-68ae18003875>\"\u001b[1;36m, line \u001b[1;32m8\u001b[0m\n\u001b[1;33m    cumul_data = []\u001b[0m\n\u001b[1;37m    ^\u001b[0m\n\u001b[1;31mIndentationError\u001b[0m\u001b[1;31m:\u001b[0m unexpected indent\n"
     ]
    }
   ],
   "source": [
    "def get_cumul_data(solution, routing, dimension):\n",
    "  \"\"\"Get cumulative data from a dimension and store it in an array.\"\"\"\n",
    "  # Returns an array cumul_data whose i,j entry contains the minimum and\n",
    "  # maximum of CumulVar for the dimension at the jth node on route :\n",
    "  # - cumul_data[i][j][0] is the minimum.\n",
    "  # - cumul_data[i][j][1] is the maximum.\n",
    "\n",
    "    cumul_data = []\n",
    "    for route_nbr in range(routing.vehicles()):\n",
    "    route_data = []\n",
    "    index = routing.Start(route_nbr)\n",
    "    dim_var = dimension.CumulVar(index)\n",
    "    route_data.append([solution.Min(dim_var), solution.Max(dim_var)])\n",
    "    while not routing.IsEnd(index):\n",
    "        index = solution.Value(routing.NextVar(index))\n",
    "        dim_var = dimension.CumulVar(index)\n",
    "        route_data.append([solution.Min(dim_var), solution.Max(dim_var)])\n",
    "    cumul_data.append(route_data)\n",
    "    return cumul_data"
   ]
  },
  {
   "cell_type": "code",
   "execution_count": 58,
   "metadata": {},
   "outputs": [],
   "source": [
    "\"\"\"Solve the VRP with time windows.\"\"\"\n",
    "    \n",
    "def show_solution_time(vehicle_no,df,start=[],end=[]):\n",
    "    if len(start) !=vehicle_no or len(end) !=vehicle_no:\n",
    "        print('Length of start and end list must be equal to number of vehicles ')\n",
    "        print(\"Please Specify Start or End Points list or use \\\"0\\\" in place of list\")\n",
    "        \n",
    "        return None\n",
    "    \n",
    "    data = open_tm(vehicle_no,df)\n",
    "    #print(data)\n",
    "    data['starts'] = start[:]\n",
    "    data['ends']  = end[:]\n",
    "    \n",
    "    manager = pywrapcp.RoutingIndexManager(len(data['time_matrix']),data['num_vehicles'], data['starts'],data['ends'])\n",
    "    # Create Routing Model.\n",
    "    routing = pywrapcp.RoutingModel(manager)\n",
    "\n",
    "    transit_callback_index = routing.RegisterTransitCallback(time_callback)\n",
    "\n",
    "    # Define cost of each arc.\n",
    "    routing.SetArcCostEvaluatorOfAllVehicles(transit_callback_index)\n",
    "\n",
    "    # Add Time Windows constraint.\n",
    "    time = 'Time'\n",
    "    routing.AddDimension(\n",
    "        transit_callback_index,\n",
    "        30,  # allow waiting time\n",
    "        600,  # maximum time per vehicle\n",
    "        False,  # Don't force start cumul to zero.\n",
    "        time)\n",
    "    time_dimension = routing.GetDimensionOrDie(time)\n",
    "    # Add time window constraints for each location except depot.\n",
    "    for location_idx, time_window in enumerate(data['time_windows']):\n",
    "        if location_idx == data['depot']:\n",
    "            continue\n",
    "        index = manager.NodeToIndex(location_idx)\n",
    "        time_dimension.CumulVar(index).SetRange(time_window[0], time_window[1])\n",
    "    # Add time window constraints for each vehicle start node.\n",
    "    depot_idx = data['depot']\n",
    "    for vehicle_id in range(data['num_vehicles']):\n",
    "        index = routing.Start(vehicle_id)\n",
    "        time_dimension.CumulVar(index).SetRange(\n",
    "            data['time_windows'][depot_idx][0],\n",
    "            data['time_windows'][depot_idx][1])\n",
    "\n",
    "    # Instantiate route start and end times to produce feasible times.\n",
    "    for i in range(data['num_vehicles']):\n",
    "        routing.AddVariableMinimizedByFinalizer(\n",
    "            time_dimension.CumulVar(routing.Start(i)))\n",
    "        routing.AddVariableMinimizedByFinalizer(\n",
    "            time_dimension.CumulVar(routing.End(i)))\n",
    "\n",
    "    # Setting first solution heuristic.\n",
    "    search_parameters = pywrapcp.DefaultRoutingSearchParameters()\n",
    "    search_parameters.first_solution_strategy = (\n",
    "        routing_enums_pb2.FirstSolutionStrategy.PATH_CHEAPEST_ARC)\n",
    "\n",
    "    # Solve the problem.\n",
    "    solution = routing.SolveWithParameters(search_parameters)\n",
    "\n",
    "    # Print solution on console.\n",
    "    if solution:\n",
    "        print_solution(data, manager, routing, solution)\n",
    "    return get_cumul_data(solution, routing, dimension)"
   ]
  },
  {
   "cell_type": "code",
   "execution_count": null,
   "metadata": {},
   "outputs": [
    {
     "name": "stdout",
     "output_type": "stream",
     "text": [
      "{'time_matrix': [[0, 14, 11, 13, 13, 17, 12, 10, 10, 12, 19, 19, 10, 19, 14, 23, 11, 10, 18, 13, 12, 7, 5, 10, 3, 16, 9, 8, 9, 15, 12, 17, 10, 4, 19, 10, 15, 8, 2, 16], [13, 0, 5, 9, 14, 12, 12, 20, 7, 8, 11, 11, 5, 11, 15, 15, 4, 8, 13, 5, 12, 16, 14, 7, 15, 16, 9, 9, 18, 7, 5, 9, 6, 13, 19, 7, 3, 9, 14, 8], [10, 5, 0, 9, 12, 12, 11, 18, 6, 7, 12, 12, 3, 12, 14, 16, 3, 6, 13, 6, 12, 13, 11, 7, 12, 15, 8, 8, 15, 8, 4, 10, 3, 11, 19, 5, 7, 8, 11, 9], [14, 10, 9, 0, 8, 5, 5, 19, 6, 5, 19, 19, 11, 14, 9, 23, 8, 7, 6, 13, 5, 16, 15, 6, 14, 9, 8, 8, 19, 16, 8, 17, 7, 12, 12, 6, 12, 8, 14, 11], [13, 14, 13, 8, 0, 11, 5, 17, 9, 10, 23, 23, 14, 18, 3, 27, 12, 9, 12, 17, 6, 15, 14, 9, 13, 5, 7, 6, 18, 19, 12, 21, 10, 11, 13, 10, 16, 7, 14, 15], [17, 12, 13, 5, 10, 0, 7, 22, 9, 9, 22, 22, 14, 16, 11, 26, 12, 10, 2, 16, 7, 19, 18, 9, 17, 11, 11, 10, 22, 18, 12, 19, 11, 15, 11, 10, 14, 11, 18, 13], [11, 12, 11, 5, 5, 7, 0, 17, 7, 8, 21, 21, 12, 16, 6, 25, 10, 8, 8, 15, 2, 14, 12, 7, 11, 6, 5, 4, 16, 17, 10, 19, 9, 10, 9, 8, 14, 5, 12, 14], [10, 20, 18, 18, 18, 22, 17, 0, 15, 17, 26, 26, 17, 24, 17, 30, 17, 15, 22, 20, 17, 15, 13, 15, 8, 18, 13, 13, 17, 22, 17, 24, 15, 10, 24, 15, 22, 13, 10, 21], [10, 7, 6, 5, 8, 9, 8, 15, 0, 4, 17, 17, 8, 11, 10, 20, 5, 4, 10, 11, 8, 12, 11, 2, 10, 11, 4, 4, 15, 13, 5, 14, 4, 8, 15, 3, 9, 4, 10, 8], [11, 7, 7, 5, 10, 9, 8, 16, 3, 0, 16, 16, 8, 11, 11, 20, 6, 4, 10, 10, 9, 14, 12, 3, 11, 12, 5, 5, 16, 12, 6, 14, 5, 10, 15, 4, 9, 5, 12, 8], [19, 11, 12, 19, 22, 22, 21, 27, 16, 17, 0, 0, 9, 19, 24, 4, 12, 16, 23, 8, 22, 21, 20, 16, 21, 25, 17, 18, 24, 6, 14, 8, 13, 19, 29, 15, 11, 18, 19, 16], [19, 11, 12, 19, 22, 22, 21, 27, 16, 17, 0, 0, 9, 19, 24, 4, 12, 16, 23, 8, 22, 21, 20, 16, 21, 25, 17, 18, 24, 6, 14, 8, 13, 19, 29, 15, 11, 18, 19, 16], [10, 5, 3, 10, 14, 13, 13, 18, 8, 9, 9, 9, 0, 12, 15, 13, 3, 7, 14, 3, 13, 13, 11, 8, 12, 16, 9, 9, 15, 6, 5, 7, 4, 10, 20, 6, 6, 9, 11, 10], [18, 10, 12, 13, 17, 16, 16, 24, 11, 11, 19, 19, 12, 0, 19, 22, 10, 11, 15, 14, 16, 21, 19, 11, 18, 19, 13, 13, 23, 16, 10, 17, 11, 17, 15, 11, 10, 13, 19, 4], [14, 15, 14, 9, 4, 11, 7, 16, 10, 11, 24, 24, 15, 19, 0, 28, 13, 11, 12, 18, 6, 16, 15, 10, 12, 2, 8, 7, 19, 20, 13, 22, 12, 12, 12, 11, 17, 8, 14, 16], [22, 15, 16, 22, 26, 25, 25, 30, 20, 21, 4, 4, 13, 22, 28, 0, 15, 19, 27, 12, 25, 25, 23, 20, 24, 29, 21, 22, 27, 10, 18, 11, 17, 23, 32, 19, 15, 21, 23, 20], [11, 4, 3, 8, 11, 11, 10, 17, 5, 6, 12, 12, 3, 10, 13, 16, 0, 5, 12, 6, 11, 14, 12, 5, 12, 14, 6, 7, 16, 8, 3, 9, 2, 10, 18, 4, 5, 7, 12, 8], [10, 7, 5, 6, 9, 9, 8, 15, 4, 4, 16, 16, 7, 11, 11, 19, 4, 0, 10, 10, 9, 12, 11, 3, 9, 12, 4, 5, 15, 12, 4, 13, 3, 8, 15, 2, 9, 4, 10, 9], [18, 14, 14, 6, 11, 2, 8, 23, 10, 10, 23, 23, 15, 15, 12, 27, 13, 11, 0, 17, 8, 20, 19, 10, 18, 12, 12, 11, 23, 19, 13, 21, 12, 16, 10, 10, 16, 12, 18, 15], [13, 5, 6, 13, 16, 16, 15, 21, 11, 11, 8, 8, 3, 14, 18, 12, 6, 10, 17, 0, 16, 15, 14, 11, 15, 19, 12, 12, 18, 4, 8, 6, 7, 13, 23, 9, 6, 12, 14, 12], [12, 13, 12, 5, 5, 7, 2, 17, 8, 8, 22, 22, 13, 16, 5, 26, 11, 9, 8, 16, 0, 15, 13, 8, 12, 5, 6, 5, 17, 18, 11, 20, 10, 10, 8, 9, 15, 6, 13, 14], [7, 16, 13, 16, 15, 19, 14, 15, 13, 14, 22, 22, 13, 21, 17, 25, 14, 13, 20, 16, 15, 0, 5, 13, 8, 18, 11, 11, 6, 18, 14, 19, 12, 7, 22, 13, 18, 11, 7, 19], [5, 14, 11, 14, 14, 18, 13, 13, 11, 13, 20, 20, 11, 19, 15, 23, 12, 11, 19, 14, 13, 5, 0, 11, 7, 16, 9, 9, 7, 16, 12, 17, 10, 6, 20, 11, 16, 9, 6, 17], [10, 7, 6, 5, 8, 9, 8, 15, 2, 4, 17, 17, 8, 11, 10, 20, 5, 3, 10, 11, 8, 12, 11, 0, 10, 11, 4, 4, 15, 13, 5, 14, 4, 8, 15, 3, 9, 4, 10, 8], [3, 14, 12, 13, 12, 16, 11, 8, 9, 11, 21, 21, 12, 18, 14, 24, 12, 9, 17, 15, 12, 8, 7, 9, 0, 15, 8, 8, 11, 17, 12, 18, 10, 4, 19, 10, 16, 7, 3, 16], [15, 16, 15, 9, 6, 11, 6, 17, 11, 12, 25, 25, 16, 19, 2, 29, 14, 12, 12, 19, 6, 17, 16, 11, 13, 0, 9, 8, 20, 21, 14, 23, 13, 14, 12, 12, 18, 9, 15, 18], [8, 8, 7, 7, 7, 10, 6, 14, 3, 5, 18, 18, 9, 12, 9, 21, 6, 4, 11, 12, 6, 11, 9, 3, 8, 10, 0, 2, 13, 14, 6, 15, 5, 7, 13, 5, 10, 2, 9, 10], [8, 9, 8, 7, 6, 10, 5, 13, 4, 6, 18, 18, 9, 13, 7, 22, 7, 5, 11, 12, 5, 11, 9, 4, 8, 8, 2, 0, 13, 14, 7, 16, 6, 6, 12, 5, 11, 2, 9, 10], [9, 19, 16, 18, 18, 22, 17, 17, 15, 17, 24, 24, 15, 24, 20, 28, 16, 15, 23, 18, 17, 6, 7, 15, 11, 21, 14, 13, 0, 20, 17, 22, 15, 10, 24, 15, 20, 13, 10, 21], [15, 7, 8, 15, 19, 18, 18, 23, 13, 13, 6, 6, 5, 16, 20, 10, 8, 12, 19, 5, 18, 18, 16, 13, 17, 21, 14, 14, 20, 0, 10, 3, 9, 15, 25, 11, 8, 14, 16, 14], [12, 5, 4, 8, 11, 11, 10, 17, 5, 6, 14, 14, 5, 10, 13, 18, 3, 5, 12, 8, 11, 14, 12, 5, 12, 14, 6, 7, 17, 10, 0, 12, 3, 10, 18, 4, 7, 7, 12, 7], [16, 8, 9, 16, 20, 19, 19, 24, 14, 15, 8, 8, 7, 17, 21, 11, 9, 13, 20, 6, 19, 19, 17, 14, 18, 23, 15, 15, 21, 3, 11, 0, 11, 17, 26, 13, 9, 15, 17, 14], [9, 5, 3, 6, 10, 10, 9, 16, 4, 5, 13, 13, 4, 11, 12, 17, 3, 3, 11, 7, 10, 12, 10, 4, 10, 13, 5, 6, 14, 9, 3, 11, 0, 9, 16, 3, 7, 5, 10, 8], [3, 13, 10, 11, 11, 15, 10, 10, 8, 10, 18, 18, 9, 17, 12, 22, 10, 8, 16, 12, 10, 7, 6, 8, 4, 13, 6, 6, 10, 14, 10, 16, 9, 0, 17, 9, 15, 6, 4, 14], [21, 24, 23, 16, 16, 16, 13, 23, 19, 19, 33, 33, 24, 20, 15, 37, 22, 20, 15, 27, 12, 25, 24, 19, 19, 14, 17, 16, 28, 29, 22, 31, 21, 21, 0, 20, 26, 17, 20, 24], [10, 7, 5, 5, 10, 9, 9, 16, 3, 4, 15, 15, 6, 11, 11, 19, 4, 2, 10, 9, 9, 13, 11, 3, 10, 12, 5, 5, 15, 11, 4, 13, 3, 9, 15, 0, 9, 5, 11, 8], [15, 3, 7, 11, 15, 14, 14, 22, 9, 9, 12, 12, 6, 10, 17, 15, 5, 9, 15, 6, 14, 18, 16, 9, 16, 18, 11, 11, 20, 8, 7, 9, 7, 15, 21, 9, 0, 11, 16, 8], [8, 9, 8, 7, 6, 11, 6, 13, 4, 6, 18, 18, 9, 13, 8, 22, 7, 5, 12, 12, 6, 10, 8, 4, 7, 9, 2, 2, 13, 14, 7, 16, 6, 6, 13, 5, 11, 0, 8, 10], [2, 14, 11, 13, 13, 17, 12, 10, 10, 12, 20, 20, 11, 19, 15, 23, 12, 10, 18, 14, 13, 7, 6, 10, 3, 16, 9, 9, 10, 16, 12, 17, 10, 4, 19, 11, 16, 8, 0, 17], [16, 8, 9, 10, 15, 13, 14, 22, 8, 9, 16, 16, 10, 4, 17, 20, 8, 9, 15, 11, 14, 19, 17, 8, 16, 18, 10, 10, 21, 14, 7, 14, 8, 15, 19, 8, 7, 10, 17, 0]], 'num_vehicles': 4, 'depot': 0, 'Id': {0: 0, 1: 1, 2: 2, 3: 3, 4: 4, 5: 5, 6: 6, 7: 7, 8: 8, 9: 9, 10: 10, 11: 11, 12: 12, 13: 13, 14: 14, 15: 15, 16: 16, 17: 17, 18: 18, 19: 19, 20: 20, 21: 21, 22: 22, 23: 23, 24: 24, 25: 25, 26: 26, 27: 27, 28: 28, 29: 29, 30: 30, 31: 31, 32: 32, 33: 33, 34: 34, 35: 35, 36: 36, 37: 37, 38: 38, 39: 39}, 'time_windows': [(0, 0), (390, 420), (90, 120), (480, 510), (240, 270), (330, 360), (210, 240), (150, 180), (120, 150), (0, 30), (300, 330), (360, 390), (300, 330), (480, 510), (180, 210), (150, 180), (0, 30), (450, 480), (390, 420), (30, 60), (30, 60), (210, 240), (420, 450), (420, 450), (270, 300), (360, 390), (90, 120), (180, 210), (300, 330), (120, 150), (300, 330), (240, 270), (240, 270), (150, 180), (180, 210), (150, 180), (30, 60), (300, 330), (90, 120), (210, 240)]}\n"
     ]
    }
   ],
   "source": [
    "show_solution_time(4,Sample,[0,0,0,0],[0,0,0,0])"
   ]
  },
  {
   "cell_type": "code",
   "execution_count": null,
   "metadata": {},
   "outputs": [],
   "source": [
    "get_routes(solution, routing, manager)"
   ]
  }
 ],
 "metadata": {
  "kernelspec": {
   "display_name": "Python 3",
   "language": "python",
   "name": "python3"
  },
  "language_info": {
   "codemirror_mode": {
    "name": "ipython",
    "version": 3
   },
   "file_extension": ".py",
   "mimetype": "text/x-python",
   "name": "python",
   "nbconvert_exporter": "python",
   "pygments_lexer": "ipython3",
   "version": "3.8.5"
  }
 },
 "nbformat": 4,
 "nbformat_minor": 4
}
