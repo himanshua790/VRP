{
  "nbformat": 4,
  "nbformat_minor": 0,
  "metadata": {
    "colab": {
      "name": "Copy of CVRPTW",
      "provenance": [],
      "collapsed_sections": [
        "MIG3dK_kilEd",
        "0Yk8YOI0BZT7",
        "JEzNW1o--jVR",
        "D-wPiLNW9DeP"
      ],
      "toc_visible": true
    },
    "kernelspec": {
      "display_name": "Python 3",
      "name": "python3"
    },
    "language_info": {
      "name": "python"
    }
  },
  "cells": [
    {
      "cell_type": "code",
      "metadata": {
        "colab": {
          "base_uri": "https://localhost:8080/",
          "height": 603
        },
        "id": "ndG8ba9HhFsM",
        "outputId": "a9f2e652-56a1-4684-b7b9-c2a93f3025a0"
      },
      "source": [
        "pip install ortools gmplot folium polyline"
      ],
      "execution_count": null,
      "outputs": [
        {
          "output_type": "stream",
          "text": [
            "Collecting ortools\n",
            "\u001b[?25l  Downloading https://files.pythonhosted.org/packages/6a/bd/75277072925d687aa35a6ea9e23e81a7f6b7c980b2a80949c5b9a3f98c79/ortools-9.0.9048-cp37-cp37m-manylinux1_x86_64.whl (14.4MB)\n",
            "\u001b[K     |████████████████████████████████| 14.4MB 269kB/s \n",
            "\u001b[?25hCollecting gmplot\n",
            "\u001b[?25l  Downloading https://files.pythonhosted.org/packages/2f/2f/45399c0a3b75d22a6ece1a1732a1670836cf284de7c1f91379a8d9b666a1/gmplot-1.4.1-py3-none-any.whl (164kB)\n",
            "\u001b[K     |████████████████████████████████| 174kB 52.8MB/s \n",
            "\u001b[?25hRequirement already satisfied: folium in /usr/local/lib/python3.7/dist-packages (0.8.3)\n",
            "Collecting polyline\n",
            "  Downloading https://files.pythonhosted.org/packages/0c/4a/67edcfd960ff64221782531c867d862acc6a4e85b382a291bcb820dcde72/polyline-1.4.0-py2.py3-none-any.whl\n",
            "Requirement already satisfied: absl-py>=0.11 in /usr/local/lib/python3.7/dist-packages (from ortools) (0.12.0)\n",
            "Collecting protobuf>=3.15.8\n",
            "\u001b[?25l  Downloading https://files.pythonhosted.org/packages/cd/4d/b5088b78457f4b4b729313fa4a6c67481fe3d2c4cd0a2e5bb7c873b6bb25/protobuf-3.16.0-cp37-cp37m-manylinux_2_5_x86_64.manylinux1_x86_64.whl (1.0MB)\n",
            "\u001b[K     |████████████████████████████████| 1.0MB 41.6MB/s \n",
            "\u001b[?25hRequirement already satisfied: requests in /usr/local/lib/python3.7/dist-packages (from gmplot) (2.23.0)\n",
            "Requirement already satisfied: jinja2 in /usr/local/lib/python3.7/dist-packages (from folium) (2.11.3)\n",
            "Requirement already satisfied: branca>=0.3.0 in /usr/local/lib/python3.7/dist-packages (from folium) (0.4.2)\n",
            "Requirement already satisfied: six in /usr/local/lib/python3.7/dist-packages (from folium) (1.15.0)\n",
            "Requirement already satisfied: numpy in /usr/local/lib/python3.7/dist-packages (from folium) (1.19.5)\n",
            "Requirement already satisfied: certifi>=2017.4.17 in /usr/local/lib/python3.7/dist-packages (from requests->gmplot) (2020.12.5)\n",
            "Requirement already satisfied: urllib3!=1.25.0,!=1.25.1,<1.26,>=1.21.1 in /usr/local/lib/python3.7/dist-packages (from requests->gmplot) (1.24.3)\n",
            "Requirement already satisfied: idna<3,>=2.5 in /usr/local/lib/python3.7/dist-packages (from requests->gmplot) (2.10)\n",
            "Requirement already satisfied: chardet<4,>=3.0.2 in /usr/local/lib/python3.7/dist-packages (from requests->gmplot) (3.0.4)\n",
            "Requirement already satisfied: MarkupSafe>=0.23 in /usr/local/lib/python3.7/dist-packages (from jinja2->folium) (1.1.1)\n",
            "Installing collected packages: protobuf, ortools, gmplot, polyline\n",
            "  Found existing installation: protobuf 3.12.4\n",
            "    Uninstalling protobuf-3.12.4:\n",
            "      Successfully uninstalled protobuf-3.12.4\n",
            "Successfully installed gmplot-1.4.1 ortools-9.0.9048 polyline-1.4.0 protobuf-3.16.0\n"
          ],
          "name": "stdout"
        },
        {
          "output_type": "display_data",
          "data": {
            "application/vnd.colab-display-data+json": {
              "pip_warning": {
                "packages": [
                  "google"
                ]
              }
            }
          },
          "metadata": {
            "tags": []
          }
        }
      ]
    },
    {
      "cell_type": "code",
      "metadata": {
        "id": "ck_QVXjm-Tk6"
      },
      "source": [
        "def header(text):\n",
        "    raw_html = '<h1>' + str(text) + '</h1>'\n",
        "    return raw_html\n",
        "\n",
        "def box(text):\n",
        "    raw_html = '<div style=\"border:1px dotted black;padding:2em;\">'+str(text)+'</div>'\n",
        "    return raw_html\n",
        "\n",
        "def showHTML(raw_html):\n",
        "    htmlContent=''\n",
        "    htmlContent += raw_html\n",
        "    return HTML(htmlContent)\n",
        "\n",
        "# Example\n",
        "#showHTML( header(\"This is a header\") )\n",
        "# showHTML( box(\"This is some text in a box\") )\n"
      ],
      "execution_count": null,
      "outputs": []
    },
    {
      "cell_type": "markdown",
      "metadata": {
        "id": "zpjSWphOfwBJ"
      },
      "source": [
        "# **Import Libraries**"
      ]
    },
    {
      "cell_type": "code",
      "metadata": {
        "id": "uOZHP_1dDwJN"
      },
      "source": [
        "from IPython.core.interactiveshell import InteractiveShell\n",
        "\n",
        "# pretty print all cell's output and not just the last one\n",
        "InteractiveShell.ast_node_interactivity = \"all\""
      ],
      "execution_count": null,
      "outputs": []
    },
    {
      "cell_type": "code",
      "metadata": {
        "colab": {
          "base_uri": "https://localhost:8080/"
        },
        "id": "2PuFdJ1Jf8TZ",
        "outputId": "b43ff367-4365-4fcc-a5d7-3f658aeb6470"
      },
      "source": [
        "import pandas as pd\n",
        "import numpy as np\n",
        "import math\n",
        "# import time \n",
        "import matplotlib.pyplot as plt\n",
        "import matplotlib.cm as cm\n",
        "%matplotlib inline\n",
        "import warnings\n",
        "warnings.filterwarnings(\"ignore\")\n",
        "from __future__ import division\n",
        "from __future__ import print_function\n",
        "import requests\n",
        "import json\n",
        "import urllib\n",
        "import ortools\n",
        "from ortools.constraint_solver import routing_enums_pb2\n",
        "from ortools.constraint_solver import pywrapcp\n",
        "from requests.structures import CaseInsensitiveDict\n",
        "from functools import partial\n",
        "from IPython.display import display, HTML\n",
        "import random\n",
        "import time\n",
        "import datetime as dt\n",
        "from pprint import pprint\n",
        "print('Done!')"
      ],
      "execution_count": null,
      "outputs": [
        {
          "output_type": "stream",
          "text": [
            "Done!\n"
          ],
          "name": "stdout"
        }
      ]
    },
    {
      "cell_type": "markdown",
      "metadata": {
        "id": "q_B0cvFy5CKs"
      },
      "source": [
        "# **Importing Files**"
      ]
    },
    {
      "cell_type": "code",
      "metadata": {
        "id": "pDMVqNnZgH9t"
      },
      "source": [
        "ps = pd.ExcelFile(r'/content/drive/MyDrive/The Kabadiwala/VRP Data/March_PickupSession_data.xlsx')\n",
        "pickup = pd.read_excel(ps, 'Sheet1') # pickup data\n",
        "mat =  pd.read_excel(ps, 'Sheet2') # material data"
      ],
      "execution_count": null,
      "outputs": []
    },
    {
      "cell_type": "code",
      "metadata": {
        "id": "yNgUvz6F9gVt"
      },
      "source": [
        "pickup['HandleTime'] = pd.to_datetime(pickup['HandleTime'], utc=True) # Fixing datatype of column.\n",
        "# Spliting DateTIme to separate columns\n",
        "pickup['HandleDate'] = pickup['HandleTime'].dt.date\n",
        "pickup['HandleTime'] = pickup['HandleTime'].dt.time\n",
        "\n",
        "# Selecting Request Handling Time by DriverApp, as it is most accurate than others. \n",
        "_pickup = pickup[['RequestId', 'PickupSessionId', 'AddressTypeId', 'AddressTypeName','FranchiseId','AppLatitude', 'AppLongitude', 'HandleTime', 'HandleDate']]\n",
        "_pickup.rename(columns= {'AppLatitude':'Latitude','AppLongitude':'Longitude'},inplace = True)"
      ],
      "execution_count": null,
      "outputs": []
    },
    {
      "cell_type": "code",
      "metadata": {
        "id": "fH-hK3tSFyfL"
      },
      "source": [
        "# Selecting a specific date to operate\n",
        "_date = '19/03/2021'\n",
        "# Base Franchises\n",
        "Franchises ={'Indore':2,'Bhopal_1':4,'Bhopal_2':6,'Raipur':8,'Nagpur':9,\"Lucknow\":10}\n",
        "# Franchise to Operate\n",
        "selected_franchise =Franchises['Bhopal_1']"
      ],
      "execution_count": null,
      "outputs": []
    },
    {
      "cell_type": "code",
      "metadata": {
        "colab": {
          "base_uri": "https://localhost:8080/",
          "height": 194
        },
        "id": "xpFI8Ar0JdYG",
        "outputId": "55f66293-b2c7-4f9d-e0f1-40bdc85545fd"
      },
      "source": [
        "pickup_all = _pickup[_pickup.HandleDate == dt.datetime.strptime(_date, '%d/%m/%Y').date()]\n",
        "display(HTML(pickup_all[['RequestId', 'FranchiseId']].groupby(by =['FranchiseId']).count().sort_values(by='RequestId',ascending = False).rename(columns={'RequestId':'Request Count'}).to_html()))"
      ],
      "execution_count": null,
      "outputs": [
        {
          "output_type": "display_data",
          "data": {
            "text/html": [
              "<table border=\"1\" class=\"dataframe\">\n",
              "  <thead>\n",
              "    <tr style=\"text-align: right;\">\n",
              "      <th></th>\n",
              "      <th>Request Count</th>\n",
              "    </tr>\n",
              "    <tr>\n",
              "      <th>FranchiseId</th>\n",
              "      <th></th>\n",
              "    </tr>\n",
              "  </thead>\n",
              "  <tbody>\n",
              "    <tr>\n",
              "      <th>4</th>\n",
              "      <td>20</td>\n",
              "    </tr>\n",
              "    <tr>\n",
              "      <th>2</th>\n",
              "      <td>15</td>\n",
              "    </tr>\n",
              "    <tr>\n",
              "      <th>8</th>\n",
              "      <td>5</td>\n",
              "    </tr>\n",
              "    <tr>\n",
              "      <th>10</th>\n",
              "      <td>5</td>\n",
              "    </tr>\n",
              "  </tbody>\n",
              "</table>"
            ],
            "text/plain": [
              "<IPython.core.display.HTML object>"
            ]
          },
          "metadata": {
            "tags": []
          }
        }
      ]
    },
    {
      "cell_type": "code",
      "metadata": {
        "id": "-oxToPydkA7c"
      },
      "source": [
        "def add_weight_piece(pickup,material):\n",
        "  # Adding Weight and Piece Column in _Pickup\n",
        "  mat_sum = material.groupby(by = ['RequestId','Unit']).sum().reset_index()\n",
        "  for index, row in pickup.iterrows():\n",
        "    temp_df  = mat_sum[mat_sum.RequestId == row.RequestId]\n",
        "    if temp_df[temp_df.Unit == 'Kg'].empty:\n",
        "      kg =0\n",
        "    else:\n",
        "      kg = temp_df[temp_df.Unit == 'Kg'].Quantity.values[0]\n",
        "    if temp_df[temp_df.Unit == 'Piece'].empty:\n",
        "      piece =0\n",
        "    else:\n",
        "      piece = temp_df[temp_df.Unit == 'Piece'].Quantity.values[0]\n",
        "\n",
        "    try:\n",
        "      pickup.at[index,'weight'] = kg\n",
        "      pickup.at[index,'piece'] = piece\n",
        "    except Exception as e:\n",
        "      print(f'Exception at {row.RequestId} :',e)\n",
        "  return pickup"
      ],
      "execution_count": null,
      "outputs": []
    },
    {
      "cell_type": "code",
      "metadata": {
        "colab": {
          "base_uri": "https://localhost:8080/",
          "height": 326
        },
        "id": "igEeTqAD7nFT",
        "outputId": "aa8dfa89-5fde-4486-bbcf-b18694d640f3"
      },
      "source": [
        "Pickup = _pickup[(_pickup.HandleDate == dt.datetime.strptime(_date, '%d/%m/%Y').date())&(_pickup.FranchiseId == selected_franchise)]\n",
        "_Pickup = add_weight_piece(Pickup,mat)\n",
        "_Pickup = _Pickup.sort_values(by=['PickupSessionId','HandleTime']).reset_index(drop = True)\n",
        "to_print = f'Pickup data initialized for date: {_date} and FranchiseId: {selected_franchise}'\n",
        "showHTML(header(to_print))\n",
        "HTML(_Pickup.head(5).to_html())\n",
        "showHTML(box('Data Shape:'+' ' +str(_Pickup.shape)))"
      ],
      "execution_count": null,
      "outputs": [
        {
          "output_type": "execute_result",
          "data": {
            "text/html": [
              "<h1>Pickup data initialized for date: 19/03/2021 and FranchiseId: 4</h1>"
            ],
            "text/plain": [
              "<IPython.core.display.HTML object>"
            ]
          },
          "metadata": {
            "tags": []
          },
          "execution_count": 10
        },
        {
          "output_type": "execute_result",
          "data": {
            "text/html": [
              "<table border=\"1\" class=\"dataframe\">\n",
              "  <thead>\n",
              "    <tr style=\"text-align: right;\">\n",
              "      <th></th>\n",
              "      <th>RequestId</th>\n",
              "      <th>PickupSessionId</th>\n",
              "      <th>AddressTypeId</th>\n",
              "      <th>AddressTypeName</th>\n",
              "      <th>FranchiseId</th>\n",
              "      <th>Latitude</th>\n",
              "      <th>Longitude</th>\n",
              "      <th>HandleTime</th>\n",
              "      <th>HandleDate</th>\n",
              "      <th>weight</th>\n",
              "      <th>piece</th>\n",
              "    </tr>\n",
              "  </thead>\n",
              "  <tbody>\n",
              "    <tr>\n",
              "      <th>0</th>\n",
              "      <td>76754</td>\n",
              "      <td>2892</td>\n",
              "      <td>7</td>\n",
              "      <td>Other</td>\n",
              "      <td>4</td>\n",
              "      <td>23.262548</td>\n",
              "      <td>77.450542</td>\n",
              "      <td>16:39:44.519000</td>\n",
              "      <td>2021-03-19</td>\n",
              "      <td>306.70</td>\n",
              "      <td>315.0</td>\n",
              "    </tr>\n",
              "    <tr>\n",
              "      <th>1</th>\n",
              "      <td>76782</td>\n",
              "      <td>2899</td>\n",
              "      <td>1</td>\n",
              "      <td>Home</td>\n",
              "      <td>4</td>\n",
              "      <td>23.217540</td>\n",
              "      <td>77.448834</td>\n",
              "      <td>11:09:35.638000</td>\n",
              "      <td>2021-03-19</td>\n",
              "      <td>60.89</td>\n",
              "      <td>4.0</td>\n",
              "    </tr>\n",
              "    <tr>\n",
              "      <th>2</th>\n",
              "      <td>76679</td>\n",
              "      <td>2899</td>\n",
              "      <td>2</td>\n",
              "      <td>Shop</td>\n",
              "      <td>4</td>\n",
              "      <td>23.220901</td>\n",
              "      <td>77.478622</td>\n",
              "      <td>11:26:50.277000</td>\n",
              "      <td>2021-03-19</td>\n",
              "      <td>18.90</td>\n",
              "      <td>0.0</td>\n",
              "    </tr>\n",
              "    <tr>\n",
              "      <th>3</th>\n",
              "      <td>76795</td>\n",
              "      <td>2899</td>\n",
              "      <td>1</td>\n",
              "      <td>Home</td>\n",
              "      <td>4</td>\n",
              "      <td>23.194841</td>\n",
              "      <td>77.463923</td>\n",
              "      <td>11:59:31.336000</td>\n",
              "      <td>2021-03-19</td>\n",
              "      <td>44.45</td>\n",
              "      <td>2.0</td>\n",
              "    </tr>\n",
              "    <tr>\n",
              "      <th>4</th>\n",
              "      <td>76812</td>\n",
              "      <td>2899</td>\n",
              "      <td>1</td>\n",
              "      <td>Home</td>\n",
              "      <td>4</td>\n",
              "      <td>23.192349</td>\n",
              "      <td>77.465202</td>\n",
              "      <td>12:04:20.124000</td>\n",
              "      <td>2021-03-19</td>\n",
              "      <td>9.00</td>\n",
              "      <td>0.0</td>\n",
              "    </tr>\n",
              "  </tbody>\n",
              "</table>"
            ],
            "text/plain": [
              "<IPython.core.display.HTML object>"
            ]
          },
          "metadata": {
            "tags": []
          },
          "execution_count": 10
        },
        {
          "output_type": "execute_result",
          "data": {
            "text/html": [
              "<div style=\"border:1px dotted black;padding:2em;\">Data Shape: (20, 11)</div>"
            ],
            "text/plain": [
              "<IPython.core.display.HTML object>"
            ]
          },
          "metadata": {
            "tags": []
          },
          "execution_count": 10
        }
      ]
    },
    {
      "cell_type": "markdown",
      "metadata": {
        "id": "0Syz8jLhfWCj"
      },
      "source": [
        "# **Data Initialization**"
      ]
    },
    {
      "cell_type": "code",
      "metadata": {
        "colab": {
          "base_uri": "https://localhost:8080/",
          "height": 36
        },
        "id": "V7IWYRgqUIln",
        "outputId": "40e838a6-e2d9-474d-fcb6-11ce02750435"
      },
      "source": [
        "\"\"\"Stores the data for the problem\"\"\"\n",
        "def open_data(vehicle_no=4,df=None,depot =1):\n",
        "    global _df\n",
        "    global error_open_data\n",
        "\n",
        "    error_open_data = None\n",
        "\n",
        "    _df = add_depots_df(depot,df)\n",
        "    data = {}\n",
        "    ######################################\n",
        "    '''Distance Matrix'''\n",
        "  \n",
        "    Sample_x = _df[:]\n",
        "    str_x =''\n",
        "    for x, y in zip(Sample_x['Latitude'], Sample_x['Longitude']):\n",
        "        str_x+=f'{y},{x};'\n",
        "    str_x = str_x[:-1]\n",
        "\n",
        "    url_x = f\"http://router.project-osrm.org/table/v1/driving/{str_x}?annotations=distance\"\n",
        "    resp = requests.post(url_x)\n",
        "    data_x = json.loads(resp.text)\n",
        "    # print('response of data',data_x)\n",
        "    data['distance_matrix'] =  data_x['distances']\n",
        "    #########################################\n",
        "    '''Time Matrix'''\n",
        "\n",
        "\n",
        "    url_y = f\"http://router.project-osrm.org/table/v1/driving/{str_x}\"      \n",
        "    resp = requests.post(url_y)\n",
        "    data_y = json.loads(resp.text)\n",
        "    lol = data_y['durations']\n",
        "\n",
        "    for i in range(len(lol)):\n",
        "        for j in range(len(lol[i])):\n",
        "            lol[i][j]=math.ceil(lol[i][j]/60) #converting seconds to minutes\n",
        "    data['time_matrix'] = lol[:]\n",
        "    data['depot_no'] = depot\n",
        "    #########################################\n",
        "    '''Demand'''\n",
        "    '''Demand is a list of Weight to be loaded at visits. '''\n",
        "\n",
        "    _capacity = 750 # Capacity of a vehicle\n",
        "\n",
        "    depot_demand = [-_capacity for x in range(depot-1)]\n",
        "    depot_demand = [0] + depot_demand\n",
        "    # visit_demand = [ random.randint(3,8) for x in range(len(df))]\n",
        "    try:\n",
        "      visit_demand =_df[_df.AddressTypeId != 0].weight.values # Here Demand is already known and extracted from pickup data.\n",
        "    except:\n",
        "      print('Exception in Demand!')\n",
        "      visit_demand = [ 1 for x in range(len(df))]\n",
        "    # Merging Demands of Depot and Visits\n",
        "    res_list = [y for x in [depot_demand, visit_demand] for y in x]\n",
        "    data['demands'] =  [int(x) for x in res_list]\n",
        "    #########################################\n",
        "    # Multiple Vehicle Capacitites\n",
        "    \n",
        "    data['vehicle_capacities'] = [750 for _ in range(vehicle_no)] # Provide list of Capacities and must equal to number of Vehicles.\n",
        "     \n",
        "    #########################################\n",
        "    data['time_per_demand_unit'] = 0.5     # Time in minute required to load per unit of load(ie. loading time minutes per kg of load)\n",
        "    data['num_vehicles'] = vehicle_no\n",
        "    data['num_locations'] = len(data['distance_matrix'])\n",
        "    data['vehicle_max_distance'] =150_000 #Maximum Travel Distance in meters\n",
        "    data['vehicle_capacity'] = _capacity\n",
        "    \n",
        "    ##################\n",
        "    data['vehicle_max_time'] = 480  #Time in Minutes \n",
        "    data['depot'] = 0\n",
        "    data['time_windows'] = random_time_window(data['num_locations'],0,data['vehicle_max_time'],30,depot) # Generating Random Time Windows \n",
        "\n",
        "    return data\n",
        "\n",
        "\n",
        "def random_time_window(number,start_time,end_time,time_interval,depot =1):\n",
        "  temp_list = [(0,end_time) for _ in range(depot) ]\n",
        "  temp_list[0]= (0,0)\n",
        "  for x in range(number-len(temp_list)):\n",
        "      i = random.randrange(start_time,end_time,time_interval)\n",
        "      # temp_list.append((i,i+time_interval))\n",
        "      ##############################\n",
        "      #predefined Time window for all\n",
        "      #(0,vehicle max time)\n",
        "      temp_list.append((0,end_time))\n",
        "      ##############################\n",
        "  return temp_list\n",
        "\n",
        "\n",
        "##############################################################################\n",
        "# Check Below fuction as you update any the columns in _Pickup.\n",
        "##############################################################################\n",
        "# adding depots in DataFrame\n",
        "def add_depots_df(number,data):\n",
        "  depots = pd.DataFrame()\n",
        "  columns = list(data)\n",
        "  # print(data.FranchiseId)\n",
        "  coordinates = find_franchises(int(data.FranchiseId.mode().values[0]))\n",
        "  for i in range(number):\n",
        "    '''\n",
        "    COLUMNS: \n",
        "    ['RequestId', 'PickupSessionId', 'AddressTypeId', 'AddressTypeName','FranchiseId', 'Latitude', 'Longitude', 'HandleTime', 'HandleDate','weight', 'piece']\n",
        "    '''\n",
        "  \n",
        "    values = [0,0,0,0,0,coordinates[0],coordinates[1],0,0,0,0]\n",
        "    zipped = zip(columns, values)\n",
        "    a_dictionary = dict(zipped)\n",
        "    #print(a_dictionary)\n",
        "    depots = depots.append(a_dictionary,ignore_index= True)\n",
        "  return  pd.concat([depots, data])\n",
        "def find_franchises(FranchiseId):\n",
        "  #print('in find franchises with frnachiseid',FranchiseId)\n",
        "  if FranchiseId ==4 or FranchiseId ==6 :\n",
        "    coordinates=[23.2637424,77.4547725]\n",
        "  elif FranchiseId ==2:\n",
        "    coordinates=[22.683603,75.9104723]\n",
        "  elif FranchiseId ==8:\n",
        "    coordinates=[21.260239,81.6216235]\n",
        "  elif FranchiseId ==10:\n",
        "    coordinates=[26.8901769,81.0017074]\n",
        "  else:\n",
        "    coordinates = None\n",
        "  return coordinates"
      ],
      "execution_count": null,
      "outputs": [
        {
          "output_type": "execute_result",
          "data": {
            "application/vnd.google.colaboratory.intrinsic+json": {
              "type": "string"
            },
            "text/plain": [
              "'Stores the data for the problem'"
            ]
          },
          "metadata": {
            "tags": []
          },
          "execution_count": 11
        }
      ]
    },
    {
      "cell_type": "code",
      "metadata": {
        "colab": {
          "base_uri": "https://localhost:8080/"
        },
        "id": "x7dsEPziMeX5",
        "outputId": "4c8d338a-5916-428b-c324-ee1f5e56435c"
      },
      "source": [
        "{'Indore': 2, 'Bhopal_1': 4, 'Bhopal_2': 6, 'Raipur': 8, 'Nagpur': 9, 'Lucknow': 10}"
      ],
      "execution_count": null,
      "outputs": [
        {
          "output_type": "execute_result",
          "data": {
            "text/plain": [
              "{'Bhopal_1': 4,\n",
              " 'Bhopal_2': 6,\n",
              " 'Indore': 2,\n",
              " 'Lucknow': 10,\n",
              " 'Nagpur': 9,\n",
              " 'Raipur': 8}"
            ]
          },
          "metadata": {
            "tags": []
          },
          "execution_count": 12
        }
      ]
    },
    {
      "cell_type": "code",
      "metadata": {
        "colab": {
          "base_uri": "https://localhost:8080/"
        },
        "id": "2Qz--RVl0PJS",
        "outputId": "dad5427e-8ee2-4007-bf03-4407f3d530b5"
      },
      "source": [
        "find_franchises(8)"
      ],
      "execution_count": null,
      "outputs": [
        {
          "output_type": "execute_result",
          "data": {
            "text/plain": [
              "[21.260239, 81.6216235]"
            ]
          },
          "metadata": {
            "tags": []
          },
          "execution_count": 13
        }
      ]
    },
    {
      "cell_type": "code",
      "metadata": {
        "colab": {
          "base_uri": "https://localhost:8080/",
          "height": 168
        },
        "id": "azGVsHlD0dYl",
        "outputId": "20712df3-655a-420f-c89b-60c940192873"
      },
      "source": [
        "int(_df.FranchiseId.mode().values[0])"
      ],
      "execution_count": null,
      "outputs": [
        {
          "output_type": "error",
          "ename": "NameError",
          "evalue": "ignored",
          "traceback": [
            "\u001b[0;31m---------------------------------------------------------------------------\u001b[0m",
            "\u001b[0;31mNameError\u001b[0m                                 Traceback (most recent call last)",
            "\u001b[0;32m<ipython-input-14-4c00c93a837b>\u001b[0m in \u001b[0;36m<module>\u001b[0;34m()\u001b[0m\n\u001b[0;32m----> 1\u001b[0;31m \u001b[0mint\u001b[0m\u001b[0;34m(\u001b[0m\u001b[0m_df\u001b[0m\u001b[0;34m.\u001b[0m\u001b[0mFranchiseId\u001b[0m\u001b[0;34m.\u001b[0m\u001b[0mmode\u001b[0m\u001b[0;34m(\u001b[0m\u001b[0;34m)\u001b[0m\u001b[0;34m.\u001b[0m\u001b[0mvalues\u001b[0m\u001b[0;34m[\u001b[0m\u001b[0;36m0\u001b[0m\u001b[0;34m]\u001b[0m\u001b[0;34m)\u001b[0m\u001b[0;34m\u001b[0m\u001b[0;34m\u001b[0m\u001b[0m\n\u001b[0m",
            "\u001b[0;31mNameError\u001b[0m: name '_df' is not defined"
          ]
        }
      ]
    },
    {
      "cell_type": "markdown",
      "metadata": {
        "id": "bq76gcUXQbK6"
      },
      "source": [
        "# Distance Constraints"
      ]
    },
    {
      "cell_type": "code",
      "metadata": {
        "id": "VHXbLlnqnkle"
      },
      "source": [
        "def create_distance_evaluator(data):\n",
        "    \"\"\"Creates callback to return distance between points.\"\"\"\n",
        "    _distances = {}\n",
        "    # precompute distance between location to have distance callback in O(1)\n",
        "    for from_node in range(data['num_locations']):\n",
        "        _distances[from_node] = {}\n",
        "        for to_node in range(data['num_locations']):\n",
        "            if from_node == to_node:\n",
        "                _distances[from_node][to_node] = 0\n",
        "            # Forbid transit from depot to depot node.\n",
        "            ##################################################################\n",
        "            elif from_node in range(data['depot_no']) and to_node in range(data['depot_no']):\n",
        "                _distances[from_node][to_node] = data['vehicle_max_distance']\n",
        "            ##################################################################\n",
        "            else:\n",
        "                _distances[from_node][to_node] = data['distance_matrix'][from_node][to_node]\n",
        "\n",
        "    def distance_evaluator(manager, from_node, to_node):\n",
        "        \"\"\"Returns the manhattan distance between the two nodes\"\"\"\n",
        "        return _distances[manager.IndexToNode(from_node)][manager.IndexToNode(\n",
        "            to_node)]\n",
        "    return distance_evaluator"
      ],
      "execution_count": null,
      "outputs": []
    },
    {
      "cell_type": "code",
      "metadata": {
        "id": "bfXGDgvQnqm-"
      },
      "source": [
        "def add_distance_dimension(routing, manager, data, distance_evaluator_index):\n",
        "    \"\"\"Add Global Span constraint\"\"\"\n",
        "    distance = 'Distance'\n",
        "    routing.AddDimension(\n",
        "        distance_evaluator_index, #callback that returns the distance weightage.\n",
        "        0,  # slack_max, slack represents waiting times at the location before leaving for next, here slack_max is Maximum Waiting Time allowed to a vehicle.\n",
        "        data['vehicle_max_distance'],  # maximum distance per vehicle.\n",
        "        True,  # start cumul to zero, if True Start cumulation of distance from Start Point, if false Start cumulation of distance after Node Point.\n",
        "        distance) # Dimension Name\n",
        "    distance_dimension = routing.GetDimensionOrDie(distance)\n",
        "    # Try to minimize the max distance among vehicles.\n",
        "    # /!\\ It doesn't mean the standard deviation is minimized\n",
        "    distance_dimension.SetGlobalSpanCostCoefficient(100)\n",
        "    # global_span_cost = coefficient * (Max(cumul distance at end) - Min(cumul distance at start))"
      ],
      "execution_count": null,
      "outputs": []
    },
    {
      "cell_type": "markdown",
      "metadata": {
        "id": "XsEpyH5JQq8p"
      },
      "source": [
        "# Capacity Contraint"
      ]
    },
    {
      "cell_type": "code",
      "metadata": {
        "id": "rdHJzMXXntJV"
      },
      "source": [
        "\n",
        "def create_demand_evaluator(data):\n",
        "    \"\"\"Creates callback to get demands at each location.\"\"\"\n",
        "    _demands = data['demands']\n",
        "\n",
        "    def demand_evaluator(manager, from_node):\n",
        "        \"\"\"Returns the demand of the current node\"\"\"\n",
        "        return _demands[manager.IndexToNode(from_node)]\n",
        "\n",
        "    return demand_evaluator"
      ],
      "execution_count": null,
      "outputs": []
    },
    {
      "cell_type": "code",
      "metadata": {
        "id": "raYJbdD7nvsa"
      },
      "source": [
        "def add_capacity_constraints(routing, manager, data, demand_evaluator_index,node_to_remove):\n",
        "    \"\"\"Adds capacity constraint\"\"\"\n",
        "    vehicle_capacity = data['vehicle_capacity']\n",
        "    capacity = 'Capacity'\n",
        "    routing.AddDimensionWithVehicleCapacity(\n",
        "        demand_evaluator_index, #callback that returns the Capacity weightage.\n",
        "        0,  # null capacity slack, slack is  maximum capacty to load before leaving for next visit.\n",
        "        data['vehicle_capacities'],  # vehicle maximum capacities\n",
        "        True,  # start cumul to zero, if True Start cumulation of distance from Start Point, if false Start cumulation of Capacity after Node Point.\n",
        "        capacity) # Dimension Name\n",
        "    \n",
        "    # Add Slack for reseting to zero unload depot nodes.\n",
        "    # e.g. vehicle with load 10/15 arrives at node 1 (depot unload)\n",
        "    # so we have CumulVar = 10(current load) + -15(unload) + 5(slack) = 0.\n",
        "    capacity_dimension = routing.GetDimensionOrDie(capacity)\n",
        "\n",
        "    # Allow to drop reloading/unloading nodes with zero cost.\n",
        "    for node in range(1,data['depot_no']): # Skipping Node 0 as it is our Depot Point.\n",
        "      node_index = manager.NodeToIndex(node)\n",
        "      routing.AddDisjunction([node_index], 0)  # Cost of Droping Extra Unload Points is zero.\n",
        "\n",
        "    # Allow to drop regular node with a cost.\n",
        "    # Required for Least Vehicle Approch\n",
        "    penalty = 10**15   # Higher Penalty to avoid droping of nodes\n",
        "    for node in range(data['depot_no'], data['num_locations']):\n",
        "      if node in node_to_remove:\n",
        "        print(f'node: {node} allocated Zero Penality')\n",
        "        routing.AddDisjunction([manager.NodeToIndex(node)], 0)  # Zero Penalty to drop unwanted node while computing.\n",
        "      else:\n",
        "        routing.AddDisjunction([manager.NodeToIndex(node)], penalty)\n"
      ],
      "execution_count": null,
      "outputs": []
    },
    {
      "cell_type": "code",
      "metadata": {
        "id": "49B0FMI7nyYc"
      },
      "source": [
        "def create_time_evaluator(data):\n",
        "    \"\"\"Creates callback to get total times between locations.\"\"\"\n",
        "\n",
        "    def service_time(data, node):\n",
        "        \"\"\"Gets the service time for the specified location.\"\"\"\n",
        "        return abs(data['demands'][node]) * data['time_per_demand_unit']\n",
        "\n",
        "    def travel_time(data, from_node, to_node):\n",
        "        \"\"\"Gets the travel times between two locations.\"\"\"\n",
        "        if from_node == to_node:\n",
        "            travel_time = 0\n",
        "        else:\n",
        "            # travel_time = manhattan_distance(\n",
        "            #         data['locations'][from_node], data['locations'][to_node]) / data['vehicle_speed']\n",
        "            travel_time = data['time_matrix'][from_node][to_node]\n",
        "        return travel_time\n",
        "\n",
        "    _total_time = {}\n",
        "    # precompute total time to have time callback in O(1)\n",
        "    for from_node in range(data['num_locations']):\n",
        "        _total_time[from_node] = {}\n",
        "        for to_node in range(data['num_locations']):\n",
        "            if from_node == to_node:\n",
        "                _total_time[from_node][to_node] = 0\n",
        "            else:\n",
        "                _total_time[from_node][to_node] = int(\n",
        "                    service_time(data, from_node) + travel_time(\n",
        "                        data, from_node, to_node))\n",
        "\n",
        "    def time_evaluator(manager, from_node, to_node):\n",
        "        \"\"\"Returns the total time between the two nodes\"\"\"\n",
        "        return _total_time[manager.IndexToNode(from_node)][manager.IndexToNode(\n",
        "            to_node)]\n",
        "\n",
        "    return time_evaluator\n"
      ],
      "execution_count": null,
      "outputs": []
    },
    {
      "cell_type": "code",
      "metadata": {
        "id": "FOnuIQZKn1xf"
      },
      "source": [
        "def add_time_window_constraints(routing, manager, data, time_evaluator):\n",
        "    \"\"\"Add Time windows constraint\"\"\"\n",
        "    time = 'Time'\n",
        "    max_time = data['vehicle_max_time']\n",
        "    routing.AddDimension(\n",
        "        time_evaluator,\n",
        "        max_time,  # allow waiting time\n",
        "        max_time,  # maximum time per vehicle\n",
        "        False,  # don't force start cumul to zero since we are giving TW to start nodes\n",
        "        time)\n",
        "    time_dimension = routing.GetDimensionOrDie(time)\n",
        "    # Add time window constraints for each location except depot\n",
        "    # and 'copy' the slack var in the solution object (aka Assignment) to print it\n",
        "    for location_idx, time_window in enumerate(data['time_windows']):\n",
        "        if location_idx == 0:\n",
        "            continue\n",
        "        index = manager.NodeToIndex(location_idx)\n",
        "        time_dimension.CumulVar(index).SetRange(time_window[0], time_window[1])\n",
        "        routing.AddToAssignment(time_dimension.SlackVar(index))\n",
        "    # Add time window constraints for each vehicle start node\n",
        "    # and 'copy' the slack var in the solution object (aka Assignment) to print it\n",
        "    for vehicle_id in range(data['num_vehicles']):\n",
        "        index = routing.Start(vehicle_id)\n",
        "        time_dimension.CumulVar(index).SetRange(data['time_windows'][0][0],\n",
        "                                                data['time_windows'][0][1])\n",
        "        routing.AddToAssignment(time_dimension.SlackVar(index))\n",
        "        # Warning: Slack var is not defined for vehicle's end node\n",
        "        #routing.AddToAssignment(time_dimension.SlackVar(self.routing.End(vehicle_id)))\n",
        "\n"
      ],
      "execution_count": null,
      "outputs": []
    },
    {
      "cell_type": "code",
      "metadata": {
        "id": "-dqXyISbfPgr"
      },
      "source": [
        "\n",
        "###########\n",
        "# Printer #\n",
        "###########\n",
        "def print_solution(data, manager, routing, assignment):  # pylint:disable=too-many-locals\n",
        "    global routes\n",
        "    global routes_data\n",
        "    routes_data = []\n",
        "    routes =[]\n",
        "    \"\"\"Prints assignment on console\"\"\"\n",
        "    print(f'Objective: {assignment.ObjectiveValue()}')\n",
        "    total_distance = 0\n",
        "    total_load = 0\n",
        "    total_time = 0\n",
        "    capacity_dimension = routing.GetDimensionOrDie('Capacity')\n",
        "    time_dimension = routing.GetDimensionOrDie('Time')\n",
        "    dropped = []\n",
        "    for order in range(data['depot_no'], routing.nodes()):\n",
        "        index = manager.NodeToIndex(order)\n",
        "        if assignment.Value(routing.NextVar(index)) == index:\n",
        "            dropped.append(order)\n",
        "    print(f'dropped orders: {dropped}')\n",
        "    for reload in range(1,data['depot_no']):\n",
        "        index = manager.NodeToIndex(reload)\n",
        "        if assignment.Value(routing.NextVar(index)) == index:\n",
        "            dropped.append(reload)\n",
        "    print(f'dropped reload stations: {dropped}')\n",
        "\n",
        "    for vehicle_id in range(data['num_vehicles']):\n",
        "\n",
        "        # Temp list to store visit points in a route\n",
        "        _temp_list =[]\n",
        "\n",
        "        index = routing.Start(vehicle_id)\n",
        "        plan_output = f'Route for vehicle {vehicle_id}:\\n'\n",
        "        distance = 0\n",
        "        while not routing.IsEnd(index):\n",
        "            load_var = capacity_dimension.CumulVar(index)\n",
        "            time_var = time_dimension.CumulVar(index)\n",
        "            plan_output += ' {0} Load({1}) Time({2},{3}) ->'.format(\n",
        "                manager.IndexToNode(index),\n",
        "                assignment.Value(load_var),\n",
        "                assignment.Min(time_var), assignment.Max(time_var))\n",
        "\n",
        "            # Append visits in a route to list\n",
        "            _temp_list.append(manager.IndexToNode(index))\n",
        "\n",
        "            previous_index = index\n",
        "            index = assignment.Value(routing.NextVar(index))\n",
        "            distance += routing.GetArcCostForVehicle(previous_index, index,\n",
        "                                                     vehicle_id)\n",
        "            \n",
        "        # Normalizing Distance After Vehicle Cost is Added in Distance\n",
        "        distance %=10**8\n",
        "\n",
        "        load_var = capacity_dimension.CumulVar(index)\n",
        "        time_var = time_dimension.CumulVar(index)\n",
        "        plan_output += ' {0} Load({1}) Time({2},{3})\\n'.format(\n",
        "            manager.IndexToNode(index),\n",
        "            assignment.Value(load_var),\n",
        "            assignment.Min(time_var), assignment.Max(time_var))\n",
        "\n",
        "        # Append End visits to list\n",
        "        _temp_list.append(manager.IndexToNode(index))\n",
        "\n",
        "        \n",
        "        plan_output += f'Distance of the route: {distance}m\\n'\n",
        "        plan_output += f'Load of the route: {assignment.Value(load_var)}\\n'\n",
        "        plan_output += f'Time of the route: {assignment.Value(time_var)}min\\n'\n",
        "        print(plan_output)\n",
        "     \n",
        "        # Adding Data to routes_data\n",
        "        routes_data.append({'distance':distance, 'time_taken':assignment.Value(time_var),'load':assignment.Value(load_var)})\n",
        "        \n",
        "        total_distance += distance\n",
        "        total_load += assignment.Value(load_var)\n",
        "        total_time += assignment.Value(time_var)\n",
        "        \n",
        "        # Append visits to routes list\n",
        "        routes.append(_temp_list)\n",
        "        #############################################\n",
        "\n",
        "    print('Total Distance of all routes: {}m'.format(total_distance))\n",
        "    print('Total Load of all routes: {}'.format(total_load))\n",
        "    print('Total Time of all routes: {}min'.format(total_time))\n",
        "\n"
      ],
      "execution_count": null,
      "outputs": []
    },
    {
      "cell_type": "code",
      "metadata": {
        "id": "os3UpxpUUAwG"
      },
      "source": [
        "# User Defined Fuction to add Weight and Quanlity per vehicle from pickup data.\n",
        "def total_quantity(routes,rs_data):\n",
        "  main_df = _df.fillna(0).reset_index()\n",
        "  for i in range(len(routes)):\n",
        "    temp_df = main_df.iloc[routes[i]]\n",
        "    rs_data[i]['weight'] = temp_df.weight.sum()\n",
        "    rs_data[i]['piece'] = temp_df.piece.sum()\n",
        "    rs_data[i]['requestCompleted'] = len(routes[i])-2\n",
        "  return rs_data"
      ],
      "execution_count": null,
      "outputs": []
    },
    {
      "cell_type": "code",
      "metadata": {
        "id": "MsICNwfjV7cl"
      },
      "source": [
        "# User Defined Function to Extract Nodes in a Same Vehicles from Routes.\n",
        "# Output used as sameVehicleNodes in Vrp Fuction to Add or Remove visits without changing older routes.\n",
        "def modify_route(a_list, node_to_remove):\n",
        "  temp_list = a_list[:]\n",
        "  temp_list = [[node for node in route if (node not in node_to_remove)&(node!=0)] for route in temp_list  ]\n",
        "  # Removing Empty routes in from Current Route\n",
        "  temp_list = [x for x in temp_list if not ((len(x)==0))]\n",
        "  return temp_list"
      ],
      "execution_count": null,
      "outputs": []
    },
    {
      "cell_type": "code",
      "metadata": {
        "id": "Yp0uLGd-ikWr"
      },
      "source": [
        "def add_visit(df,visits_to_add):\n",
        "  df=df[:]\n",
        "  length_of_df = len(df)\n",
        "  columns = list(df)\n",
        "  for i in range(visits_to_add):\n",
        "    placeholder = 1\n",
        "    while placeholder is not None:\n",
        "      try:\n",
        "        RequestId = int(input('Enter ID:'))\n",
        "        AddressTypeId = int(input('Enter AddressTypeId: ' ) or '1')\n",
        "        FranchiseId = int(input('Enter FranchiseId: ' ) or '0')\n",
        "        Latitude = float(input('Enter Latitude: '))\n",
        "        Longitude = float(input('Enter Longitude: '))\n",
        "        expected_weight = int(input('Enter Expected Weight in Kg: '))\n",
        "        placeholder = None\n",
        "      except Exception as e:\n",
        "        placeholder = e\n",
        "        print('error occurred try again!', e)\n",
        "        continue\n",
        "    \n",
        "    values = [RequestId, 0\t,AddressTypeId, \"TEST\",FranchiseId,\tLatitude, Longitude,\t0,\t0,\texpected_weight\t,0]\n",
        "    df.loc[length_of_df+i] = values\n",
        "  return df"
      ],
      "execution_count": null,
      "outputs": []
    },
    {
      "cell_type": "markdown",
      "metadata": {
        "id": "rAyodvxXBwRr"
      },
      "source": [
        "# **Main**"
      ]
    },
    {
      "cell_type": "code",
      "metadata": {
        "id": "rX_76c0gJbkG"
      },
      "source": [
        "def vrp(vehicle_no,df,depot_no,start=[],end = [],sameVehicleNodes =[],initialRoutes=[],node_to_remove=[]):\n",
        "\n",
        "# Vehicle_no: Maximum Number of Vehicles available for rouuting.\n",
        "\n",
        "# df: Dataframe with all requests data. Refer Importing File for file type or data in DataFrame\n",
        "\n",
        "# depot_no: Number of Depots, Must be >=1.\n",
        "#   if depot_no is 1: All request will be forced to unload at end of trip.\n",
        "#   if deport_no is >1 : Enable unloading as soon as vehicle capacity is maxed out. \n",
        "#     this number indicated the number of total unloading points in middle of routes.\n",
        "\n",
        "# start/end: List of Start/End points to force routes to start/end at a  given node rather than 'depot node' 0.\n",
        "#   size of list must be equal to vehicle_no.\n",
        "\n",
        "# sameVehicleNodes: Force given nodes to be in a same route. type: list of lists ex: [[route1_nodes],[route2_nodes],....,[route_n_nodes]]\n",
        "#   size of list must be equal to vehicle_no.\n",
        "\n",
        "# intialRoutes: Force the vrp to follow initial route in solution.  type: list of lists ex: [[route1_nodes],[route2_nodes],....,[route_n_nodes]]\n",
        "#   size of list must be equal to vehicle_no.\n",
        "\n",
        "# node_to_remove: list of nodes to be dropped in vrp.\n",
        "\n",
        "############## Checking Valid Start or End Point  ############################\n",
        "    if len(start)!=vehicle_no or len(end)!= vehicle_no:\n",
        "        print('length of start list/ endlist does not match with number of vehicle')\n",
        "        print('initializing start and end to 0')\n",
        "        start = [0 for x in range(vehicle_no)]\n",
        "        end = [0 for x in range(vehicle_no)]\n",
        "      \n",
        "    global routes_data\n",
        "    global data\n",
        "    data = open_data(vehicle_no,df,depot_no)\n",
        "    data['starts'] =start[:]\n",
        "    data['ends'] = end[:]\n",
        "    print('Start_list:',data['starts'])\n",
        "    print('Ends_list:',data['ends'])\n",
        "\n",
        "    # The routing solver uses variable indices internally and these variable indices are tricky to manage. \n",
        "    # RoutingIndexManger simplify variable index usage, allowing users to use NodeIndex instead. Usage. Manager for any NodeIndex <-> variable index conversion.\n",
        "    # RoutingIndexManager manager(10, 4, starts_ends); // 10 nodes, 4 vehicles,0(start and end node)\n",
        "    # For Different Start and End node use: data['starts'] and data['ends'] instead of data['depot']\n",
        "    # data['starts']/data['ends']  is list of Start/End index, Number of elements in list must be equal to number of vehicles.\n",
        "\n",
        "    manager = pywrapcp.RoutingIndexManager(data['num_locations'],\n",
        "                                           data['num_vehicles'],  data['starts'],data[\"ends\"])\n",
        "    # Create Routing Model\n",
        "    routing = pywrapcp.RoutingModel(manager)\n",
        "\n",
        "    #Set Fixed Cost for all Vehicle:\n",
        "    # Required for Least Vehicle Approach.\n",
        "    routing.SetFixedCostOfAllVehicles(10**8)\n",
        "\n",
        "    '''\n",
        "    Vehicle Drop Cost is Less than Visit Drop cost.\n",
        "    As we need to fulfill all our requests with least number of vehicles.\n",
        "    '''\n",
        "\n",
        "    # Define weight of each edge\n",
        "    distance_evaluator_index = routing.RegisterTransitCallback(partial(create_distance_evaluator(data), manager)) #The index for the callback that returns the quantity\n",
        "    routing.SetArcCostEvaluatorOfAllVehicles(distance_evaluator_index) # Set cost between nodes.\n",
        "\n",
        "    # Add Distance constraint to minimize the longest route\n",
        "    add_distance_dimension(routing, manager, data, distance_evaluator_index)\n",
        "\n",
        "    # Add Capacity constraint\n",
        "    demand_evaluator_index = routing.RegisterUnaryTransitCallback(\n",
        "        partial(create_demand_evaluator(data), manager))\n",
        "    add_capacity_constraints(routing, manager, data, demand_evaluator_index,node_to_remove) \n",
        "\n",
        "    # Add Time Window constraint\n",
        "    time_evaluator_index = routing.RegisterTransitCallback(\n",
        "        partial(create_time_evaluator(data), manager))\n",
        "    add_time_window_constraints(routing, manager, data, time_evaluator_index)\n",
        "\n",
        "    ################################################################################\n",
        "\n",
        "    # Removing Nodes from Current Route\n",
        "    sameVehicleNodes = modify_route(sameVehicleNodes,node_to_remove)\n",
        "    penalty = 10**12\n",
        "    if len(sameVehicleNodes) !=0:\n",
        "      print('solving for Nodes in Same route',sameVehicleNodes)\n",
        "      for i in range(len(sameVehicleNodes)):\n",
        "          routing.AddSoftSameVehicleConstraint(sameVehicleNodes [i], penalty)\n",
        "\n",
        "    if len(initialRoutes) !=0:\n",
        "      initialRoutes = modify_route(initial_routes,node_to_remove)\n",
        "    #   initial_solution = routing.ReadAssignmentFromRoutes(initialRoutes, True)\n",
        "\n",
        "    ################################################################################\n",
        "\n",
        "\n",
        "    # Setting first solution heuristic (cheapest addition).\n",
        "    search_parameters = pywrapcp.DefaultRoutingSearchParameters()\n",
        "    search_parameters.first_solution_strategy = (\n",
        "        routing_enums_pb2.FirstSolutionStrategy.PATH_CHEAPEST_ARC)  # pylint: disable=no-member\n",
        "    search_parameters.local_search_metaheuristic = (\n",
        "        routing_enums_pb2.LocalSearchMetaheuristic.GUIDED_LOCAL_SEARCH)\n",
        "    search_parameters.time_limit.FromSeconds(20)\n",
        "    search_parameters.log_search = True\n",
        "\n",
        "    # Solve the problem.\n",
        "    if len(initialRoutes) != 0:\n",
        "      routing.CloseModel()\n",
        "      print(routing.ApplyLocksToAllVehicles(initialRoutes, False)) \n",
        "      print('solution with Intial Routes :',initialRoutes)\n",
        "\n",
        "    solution = routing.SolveWithParameters(search_parameters)\n",
        "\n",
        "    if solution:\n",
        "        print_solution(data, manager, routing, solution)\n",
        "    else:\n",
        "        print(\"No solution found !\")\n",
        "\n",
        "\n",
        "    routes_data = total_quantity(routes,routes_data)\n",
        "if __name__ == '__main__':\n",
        "    vrp(5,_Pickup,1)"
      ],
      "execution_count": null,
      "outputs": []
    },
    {
      "cell_type": "code",
      "metadata": {
        "id": "EWJ7fnkayZ28"
      },
      "source": [
        "if __name__ == '__main__':\n",
        "    vrp(5,_Pickup,1)"
      ],
      "execution_count": null,
      "outputs": []
    },
    {
      "cell_type": "markdown",
      "metadata": {
        "id": "MIG3dK_kilEd"
      },
      "source": [
        "# Add Visit"
      ]
    },
    {
      "cell_type": "code",
      "metadata": {
        "id": "vV4G2ZU8CLP3"
      },
      "source": [
        "_Pickup.shape"
      ],
      "execution_count": null,
      "outputs": []
    },
    {
      "cell_type": "code",
      "metadata": {
        "id": "Qievz8yYxGdp"
      },
      "source": [
        "initial_routes = routes[:]"
      ],
      "execution_count": null,
      "outputs": []
    },
    {
      "cell_type": "code",
      "metadata": {
        "id": "Jm-kJgW_sEGE"
      },
      "source": [
        "add_visit_df = add_visit(_Pickup,1)"
      ],
      "execution_count": null,
      "outputs": []
    },
    {
      "cell_type": "code",
      "metadata": {
        "id": "6Cq9Sl3OL4Pu"
      },
      "source": [
        "print(initial_routes)"
      ],
      "execution_count": null,
      "outputs": []
    },
    {
      "cell_type": "code",
      "metadata": {
        "id": "fiAV0j__PPhH"
      },
      "source": [
        "# adding initial_routes as sameVehicleNodes to avoid Change in Initial Routes\n",
        "# New routes are stored in routes variable.\n",
        "vrp(5,add_visit_df,1,\n",
        "    start=[0,0,0,0,0],\n",
        "    end = [0,0,0,0,0],\n",
        "    sameVehicleNodes = initial_routes,\n",
        "    initialRoutes= [ # Completed Visits\n",
        "                    [9, 10, 11, 14, 19], \n",
        "                    [ 3, 4, 5, 7, 8, 6],\n",
        "                    [],\n",
        "                    []\n",
        "    ])"
      ],
      "execution_count": null,
      "outputs": []
    },
    {
      "cell_type": "code",
      "metadata": {
        "id": "EQmUSjZhnHty"
      },
      "source": [
        "print(routes)"
      ],
      "execution_count": null,
      "outputs": []
    },
    {
      "cell_type": "code",
      "metadata": {
        "id": "95E2ieu0oXdb"
      },
      "source": [
        "print(initial_routes)"
      ],
      "execution_count": null,
      "outputs": []
    },
    {
      "cell_type": "markdown",
      "metadata": {
        "id": "0Yk8YOI0BZT7"
      },
      "source": [
        "# Dropping Visit"
      ]
    },
    {
      "cell_type": "code",
      "metadata": {
        "colab": {
          "base_uri": "https://localhost:8080/"
        },
        "id": "KnrV1WU_NTRk",
        "outputId": "f7a05a78-4d21-42e2-cdcb-9655b6f5731f"
      },
      "source": [
        "vrp(5,_Pickup,1,\n",
        "    node_to_remove=[12],\n",
        "    sameVehicleNodes=initial_routes,\n",
        "    initialRoutes= [ # Completed Visits\n",
        "                    [9, 10, 11, 14, 19], \n",
        "                    [ 3, 4, 5, 7, 8, 6],\n",
        "                    [],\n",
        "                    []\n",
        "    ])\n",
        "# adding initial_routes as sameVehicleNodes to avoid Change in Initial Routes\n",
        "# New routes are stored in routes variable."
      ],
      "execution_count": null,
      "outputs": [
        {
          "output_type": "stream",
          "text": [
            "length of start list/ endlist does not match with number of vehicle\n",
            "initializing start and end to 0\n",
            "Start_list: [0, 0, 0, 0, 0]\n",
            "Ends_list: [0, 0, 0, 0, 0]\n",
            "node: 12 allocated Zero Penality\n",
            "solving for Nodes in Same route [[9, 10, 11, 14, 19, 18, 17, 16, 13, 1], [3, 4, 5, 7, 8, 6, 15, 20, 2]]\n",
            "True\n",
            "solution with Intial Routes \n",
            "Objective: 203690515\n",
            "dropped orders: []\n",
            "dropped reload stations: []\n",
            "Route for vehicle 0:\n",
            " 0 Load(0) Time(0,0) -> 9 Load(0) Time(2,117) -> 10 Load(45) Time(34,149) -> 11 Load(62) Time(45,160) -> 14 Load(144) Time(91,206) -> 19 Load(149) Time(95,210) -> 18 Load(163) Time(103,218) -> 17 Load(172) Time(111,226) -> 16 Load(184) Time(117,232) -> 13 Load(194) Time(129,244) -> 12 Load(242) Time(160,275) -> 1 Load(313) Time(210,325) -> 0 Load(619) Time(365,480)\n",
            "Distance of the route: 36133m\n",
            "Load of the route: 619\n",
            "Time of the route: 365min\n",
            "\n",
            "Route for vehicle 1:\n",
            " 0 Load(0) Time(0,0) -> 3 Load(0) Time(12,231) -> 4 Load(18) Time(30,249) -> 5 Load(62) Time(54,273) -> 7 Load(71) Time(64,283) -> 8 Load(88) Time(81,300) -> 6 Load(162) Time(122,341) -> 15 Load(312) Time(203,422) -> 20 Load(327) Time(212,431) -> 2 Load(328) Time(221,440) -> 0 Load(388) Time(261,480)\n",
            "Distance of the route: 36182m\n",
            "Load of the route: 388\n",
            "Time of the route: 261min\n",
            "\n",
            "Route for vehicle 2:\n",
            " 0 Load(0) Time(0,0) -> 0 Load(0) Time(0,480)\n",
            "Distance of the route: 0m\n",
            "Load of the route: 0\n",
            "Time of the route: 0min\n",
            "\n",
            "Route for vehicle 3:\n",
            " 0 Load(0) Time(0,0) -> 0 Load(0) Time(0,480)\n",
            "Distance of the route: 0m\n",
            "Load of the route: 0\n",
            "Time of the route: 0min\n",
            "\n",
            "Route for vehicle 4:\n",
            " 0 Load(0) Time(0,0) -> 0 Load(0) Time(0,480)\n",
            "Distance of the route: 0m\n",
            "Load of the route: 0\n",
            "Time of the route: 0min\n",
            "\n",
            "Total Distance of all routes: 72315m\n",
            "Total Load of all routes: 1007\n",
            "Total Time of all routes: 626min\n"
          ],
          "name": "stdout"
        }
      ]
    },
    {
      "cell_type": "code",
      "metadata": {
        "colab": {
          "base_uri": "https://localhost:8080/"
        },
        "id": "8olISbo0Hv2l",
        "outputId": "82775f9d-c487-4f84-cc44-77488716244f"
      },
      "source": [
        "routes"
      ],
      "execution_count": null,
      "outputs": [
        {
          "output_type": "execute_result",
          "data": {
            "text/plain": [
              "[[0, 9, 10, 11, 14, 19, 18, 17, 16, 13, 12, 1, 0],\n",
              " [0, 3, 4, 5, 7, 8, 6, 15, 20, 2, 0],\n",
              " [0, 0],\n",
              " [0, 0],\n",
              " [0, 0]]"
            ]
          },
          "metadata": {
            "tags": []
          },
          "execution_count": 107
        }
      ]
    },
    {
      "cell_type": "markdown",
      "metadata": {
        "id": "K351ABBkUC-5"
      },
      "source": [
        "# User Defined Global Variables"
      ]
    },
    {
      "cell_type": "markdown",
      "metadata": {
        "id": "jW0Gn2lQUJgv"
      },
      "source": [
        "\n",
        "*   pickup: DataFrame with Pickup data\n",
        "\n",
        "*   _Pickup: Optimized and Clean Version of pickup dataframe\n",
        "*   _df : _Pickup with defined number of Depot Points.\n",
        "*   routes: Output of Routing and Path in List format \n",
        "*   original_routes: Manual Path calculated using VehicleSessionId and Time of *   completetion\n",
        "*   route_data: Contains data for individual Routes.\n",
        "*   original_routes_data: Contains data of individual manual routes.\n",
        "\n"
      ]
    },
    {
      "cell_type": "markdown",
      "metadata": {
        "id": "JEzNW1o--jVR"
      },
      "source": [
        "### Extracting Original Routes"
      ]
    },
    {
      "cell_type": "code",
      "metadata": {
        "id": "akUoFvky8-9B"
      },
      "source": [
        "unique_route_id = _Pickup.PickupSessionId.unique()\n",
        "original_routes = []\n",
        "for i in unique_route_id:\n",
        "  temp_list = list(_Pickup[_Pickup.PickupSessionId == i].index.values)\n",
        "  temp_list = [ x+ int(data['depot_no']) for x in temp_list]\n",
        "  original_routes.append([0]+temp_list+[0])"
      ],
      "execution_count": null,
      "outputs": []
    },
    {
      "cell_type": "markdown",
      "metadata": {
        "id": "xsNNM0zirqG9"
      },
      "source": [
        "## CALCULATE DISTANCE TRAVELLED IN ORIGINAL ROUTES\n"
      ]
    },
    {
      "cell_type": "code",
      "metadata": {
        "collapsed": true,
        "id": "Wb-9VS5Ht5Gh"
      },
      "source": [
        "original_routes_data =[{} for _ in original_routes ]\n",
        "main_df = _df.fillna(0).reset_index()\n",
        "\n",
        "for i in range (len(original_routes)):\n",
        "  previous_visit = 0\n",
        "  distance = 0\n",
        "  time_taken = 0\n",
        "  load = 0\n",
        "  for visit in original_routes[i]:\n",
        "    time_as_per_demand = data['demands'][visit] * data['time_per_demand_unit']\n",
        "    load+=data['demands'][visit]\n",
        "    distance += data['distance_matrix'][previous_visit][visit]\n",
        "    time_taken += data['time_matrix'][previous_visit][visit]+time_as_per_demand\n",
        "    previous_visit = visit\n",
        "  original_routes_data[i]['distance'] = distance\n",
        "  original_routes_data[i]['time'] = time_taken\n",
        "  original_routes_data[i]['load'] = load\n",
        "  temp_df = main_df.iloc[original_routes[i]]\n",
        "  original_routes_data[i]['weight'] = int(temp_df.weight.sum())\n",
        "  original_routes_data[i]['piece'] = int(temp_df.piece.sum())\n",
        "  original_routes_data[i]['requestCompleted'] = len(original_routes[i])-2"
      ],
      "execution_count": null,
      "outputs": []
    },
    {
      "cell_type": "code",
      "metadata": {
        "colab": {
          "base_uri": "https://localhost:8080/"
        },
        "id": "LgfwS4q6xM0m",
        "outputId": "6286310c-a6da-4c6c-abf3-3fbcccc46743"
      },
      "source": [
        "# Manual Routes \n",
        "original_routes"
      ],
      "execution_count": null,
      "outputs": [
        {
          "output_type": "execute_result",
          "data": {
            "text/plain": [
              "[[0, 1, 0],\n",
              " [0, 2, 3, 4, 5, 6, 7, 8, 9, 0],\n",
              " [0, 10, 11, 12, 13, 14, 15, 16, 17, 18, 19, 20, 0]]"
            ]
          },
          "metadata": {
            "tags": []
          },
          "execution_count": 63
        }
      ]
    },
    {
      "cell_type": "code",
      "metadata": {
        "colab": {
          "base_uri": "https://localhost:8080/"
        },
        "id": "aeOvMkfv4-CV",
        "outputId": "19924b43-03ca-476a-e7e3-59501aa5d08e"
      },
      "source": [
        "# VRP Routes\n",
        "print(routes)"
      ],
      "execution_count": null,
      "outputs": [
        {
          "output_type": "stream",
          "text": [
            "[[0, 9, 6, 8, 7, 5, 4, 3, 0], [0, 0], [0, 0], [0, 0], [0, 2, 20, 15, 16, 17, 18, 19, 14, 13, 12, 11, 10, 1, 0]]\n"
          ],
          "name": "stdout"
        }
      ]
    },
    {
      "cell_type": "code",
      "metadata": {
        "colab": {
          "base_uri": "https://localhost:8080/",
          "height": 485
        },
        "id": "euzt27_iw07M",
        "outputId": "b388a151-f083-44b7-b750-20ba83989d3c"
      },
      "source": [
        "temp_df = pd.DataFrame(original_routes_data)\n",
        "temp_df.loc['Column Total']= temp_df.sum(numeric_only=True, axis=0)\n",
        "display(HTML('<h1>Actual Route Data</h1>'))\n",
        "display(HTML(temp_df.to_html()))\n",
        "\n",
        "temp_df = pd.DataFrame(routes_data)\n",
        "temp_df.loc['Column Total']= temp_df.sum(numeric_only=True, axis=0)\n",
        "display(HTML('<h1>Predicted Route Data</h1>'))\n",
        "display(HTML(temp_df.to_html()))"
      ],
      "execution_count": null,
      "outputs": [
        {
          "output_type": "display_data",
          "data": {
            "text/html": [
              "<h1>Actual Route Data</h1>"
            ],
            "text/plain": [
              "<IPython.core.display.HTML object>"
            ]
          },
          "metadata": {
            "tags": []
          }
        },
        {
          "output_type": "display_data",
          "data": {
            "text/html": [
              "<table border=\"1\" class=\"dataframe\">\n",
              "  <thead>\n",
              "    <tr style=\"text-align: right;\">\n",
              "      <th></th>\n",
              "      <th>distance</th>\n",
              "      <th>time</th>\n",
              "      <th>load</th>\n",
              "      <th>weight</th>\n",
              "      <th>piece</th>\n",
              "      <th>requestCompleted</th>\n",
              "    </tr>\n",
              "  </thead>\n",
              "  <tbody>\n",
              "    <tr>\n",
              "      <th>0</th>\n",
              "      <td>1141.0</td>\n",
              "      <td>157.0</td>\n",
              "      <td>306.0</td>\n",
              "      <td>306.0</td>\n",
              "      <td>315.0</td>\n",
              "      <td>1.0</td>\n",
              "    </tr>\n",
              "    <tr>\n",
              "      <th>1</th>\n",
              "      <td>39318.2</td>\n",
              "      <td>275.5</td>\n",
              "      <td>417.0</td>\n",
              "      <td>422.0</td>\n",
              "      <td>6.0</td>\n",
              "      <td>8.0</td>\n",
              "    </tr>\n",
              "    <tr>\n",
              "      <th>2</th>\n",
              "      <td>38456.9</td>\n",
              "      <td>204.0</td>\n",
              "      <td>284.0</td>\n",
              "      <td>289.0</td>\n",
              "      <td>0.0</td>\n",
              "      <td>11.0</td>\n",
              "    </tr>\n",
              "    <tr>\n",
              "      <th>Column Total</th>\n",
              "      <td>78916.1</td>\n",
              "      <td>636.5</td>\n",
              "      <td>1007.0</td>\n",
              "      <td>1017.0</td>\n",
              "      <td>321.0</td>\n",
              "      <td>20.0</td>\n",
              "    </tr>\n",
              "  </tbody>\n",
              "</table>"
            ],
            "text/plain": [
              "<IPython.core.display.HTML object>"
            ]
          },
          "metadata": {
            "tags": []
          }
        },
        {
          "output_type": "display_data",
          "data": {
            "text/html": [
              "<h1>Predicted Route Data</h1>"
            ],
            "text/plain": [
              "<IPython.core.display.HTML object>"
            ]
          },
          "metadata": {
            "tags": []
          }
        },
        {
          "output_type": "display_data",
          "data": {
            "text/html": [
              "<table border=\"1\" class=\"dataframe\">\n",
              "  <thead>\n",
              "    <tr style=\"text-align: right;\">\n",
              "      <th></th>\n",
              "      <th>distance</th>\n",
              "      <th>time_taken</th>\n",
              "      <th>load</th>\n",
              "      <th>weight</th>\n",
              "      <th>piece</th>\n",
              "      <th>requestCompleted</th>\n",
              "    </tr>\n",
              "  </thead>\n",
              "  <tbody>\n",
              "    <tr>\n",
              "      <th>0</th>\n",
              "      <td>34648.0</td>\n",
              "      <td>234.0</td>\n",
              "      <td>357.0</td>\n",
              "      <td>361.12</td>\n",
              "      <td>2.0</td>\n",
              "      <td>7.0</td>\n",
              "    </tr>\n",
              "    <tr>\n",
              "      <th>1</th>\n",
              "      <td>0.0</td>\n",
              "      <td>0.0</td>\n",
              "      <td>0.0</td>\n",
              "      <td>0.00</td>\n",
              "      <td>0.0</td>\n",
              "      <td>0.0</td>\n",
              "    </tr>\n",
              "    <tr>\n",
              "      <th>2</th>\n",
              "      <td>0.0</td>\n",
              "      <td>0.0</td>\n",
              "      <td>0.0</td>\n",
              "      <td>0.00</td>\n",
              "      <td>0.0</td>\n",
              "      <td>0.0</td>\n",
              "    </tr>\n",
              "    <tr>\n",
              "      <th>3</th>\n",
              "      <td>0.0</td>\n",
              "      <td>0.0</td>\n",
              "      <td>0.0</td>\n",
              "      <td>0.00</td>\n",
              "      <td>0.0</td>\n",
              "      <td>0.0</td>\n",
              "    </tr>\n",
              "    <tr>\n",
              "      <th>4</th>\n",
              "      <td>35711.0</td>\n",
              "      <td>387.0</td>\n",
              "      <td>650.0</td>\n",
              "      <td>656.74</td>\n",
              "      <td>319.0</td>\n",
              "      <td>13.0</td>\n",
              "    </tr>\n",
              "    <tr>\n",
              "      <th>Column Total</th>\n",
              "      <td>70359.0</td>\n",
              "      <td>621.0</td>\n",
              "      <td>1007.0</td>\n",
              "      <td>1017.86</td>\n",
              "      <td>321.0</td>\n",
              "      <td>20.0</td>\n",
              "    </tr>\n",
              "  </tbody>\n",
              "</table>"
            ],
            "text/plain": [
              "<IPython.core.display.HTML object>"
            ]
          },
          "metadata": {
            "tags": []
          }
        }
      ]
    },
    {
      "cell_type": "markdown",
      "metadata": {
        "id": "D-wPiLNW9DeP"
      },
      "source": [
        "# **MAP**"
      ]
    },
    {
      "cell_type": "code",
      "metadata": {
        "id": "elWOyfPaFqWN"
      },
      "source": [
        "import gmplot\n",
        "import folium\n",
        "import polyline"
      ],
      "execution_count": null,
      "outputs": []
    },
    {
      "cell_type": "code",
      "metadata": {
        "id": "G7605zC8OLn9"
      },
      "source": [
        "predefined_colors = ['#1890FF','#52c41a','#faad14','#ff4d4f','#ffffff','#ff7f27']"
      ],
      "execution_count": null,
      "outputs": []
    },
    {
      "cell_type": "code",
      "metadata": {
        "id": "_f7xRrr7MgSe"
      },
      "source": [
        "def get_route(pickup_lat,pickup_lon, dropoff_lat , dropoff_lon):\n",
        "    global res\n",
        "    loc = \"{},{};{},{}\".format(pickup_lon, pickup_lat, dropoff_lon, dropoff_lat)\n",
        "    url = \"http://router.project-osrm.org/route/v1/driving/\"\n",
        "    r = requests.get(url + loc) \n",
        "    if r.status_code!= 200:\n",
        "        return {}\n",
        "  \n",
        "    res = r.json()   \n",
        "    routes_x = polyline.decode(res['routes'][0]['geometry'])\n",
        "    start_point = [res['waypoints'][0]['location'][1], res['waypoints'][0]['location'][0]]\n",
        "    end_point = [res['waypoints'][1]['location'][1], res['waypoints'][1]['location'][0]]\n",
        "    distance = res['routes'][0]['distance']\n",
        "    routes_df = pd.DataFrame.from_records(routes_x, columns =['Latitude', 'Longitude'])\n",
        "    #print(r.status_code)\n",
        "    return routes_df"
      ],
      "execution_count": null,
      "outputs": []
    },
    {
      "cell_type": "code",
      "metadata": {
        "id": "pdBgi2b_FIL-"
      },
      "source": [
        "def plot_routes(routes,data):\n",
        "    Sample = data[:]\n",
        "    gmap3 = gmplot.GoogleMapPlotter(23.1993477,77.2658056, 13)\n",
        "    gmap3.coloricon = \"http://www.googlemapsmarkers.com/v1/%s/\"\n",
        "    #ploting updated routes\n",
        "    # routes = Original_Routes\n",
        "    # scatter method of map object\n",
        "    # scatter points on the google map\n",
        "    for i in range(len(routes)):\n",
        "        latitude_list = Sample.iloc[routes[i]]['Latitude'].values\n",
        "        longitude_list = Sample.iloc[routes[i]]['Longitude'].values\n",
        "        center_lat = latitude_list[0]\n",
        "        center_long = longitude_list[0]\n",
        "        #gmap3.scatter(center_lat , center_long, '# 00000',size = 100, marker = False )\n",
        "        gmap3.scatter( latitude_list, longitude_list, color ='black',size = 10, marker = False)\n",
        "        for j in range(len(latitude_list)):\n",
        "            start_lat = latitude_list[j]\n",
        "            start_long = longitude_list[j]\n",
        "            #print(f'start_lat:{start_lat}, start_long{start_long}')\n",
        "            try:\n",
        "                stop_lat = latitude_list[j+1]\n",
        "                stop_long = longitude_list[j+1]\n",
        "                #print(f'stop_lat:{stop_lat}, stop_long{stop_long}')\n",
        "            except:\n",
        "                stop_lat = latitude_list[0]\n",
        "                stop_long = longitude_list[0]\n",
        "                #print('try triggered!')\n",
        "                #print(f'stop_lat:{stop_lat}, stop_long{stop_long}')\n",
        "\n",
        "            route_df = get_route(start_lat,start_long, stop_lat , stop_long)\n",
        "            #print(len(route_df))\n",
        "            route_latitude_list = route_df['Latitude'].values\n",
        "            route_longitude_list = route_df['Longitude'].values\n",
        "            #print(len(route_longitude_list))\n",
        "    #         gmap3.scatter( route_latitude_list, route_longitude_list, '# FF0000',size = 0, marker = False )\n",
        "            gmap3.plot(route_latitude_list, route_longitude_list,color=predefined_colors[i] , edge_width = 2.5)\n",
        "\n",
        "    gmap3.marker(23.263742, 77.454773,color = \"green\", title=\"Depot\")\n",
        "    Sample_2 = Sample[~(Sample.AddressTypeId ==0)][['Latitude','Longitude']]\n",
        "    for index, row in Sample_2.iterrows():\n",
        "      lat = row.Latitude\n",
        "      lng = row.Longitude\n",
        "      gmap3.marker(lat, lng, title=str(index),color='cornflowerblue')\n",
        "\n",
        "      \n",
        "\n",
        "    gmap3.draw( r\"/content/route.html\" )\n",
        "    print('Route Ploted on route.html')"
      ],
      "execution_count": null,
      "outputs": []
    },
    {
      "cell_type": "code",
      "metadata": {
        "colab": {
          "base_uri": "https://localhost:8080/"
        },
        "id": "RcEEwge2FlAV",
        "outputId": "90311121-a0dd-4e2a-85bf-499fc141426a"
      },
      "source": [
        "plot_routes(original_routes,_df)"
      ],
      "execution_count": null,
      "outputs": [
        {
          "output_type": "stream",
          "text": [
            "Route Ploted on route_1.html\n"
          ],
          "name": "stdout"
        }
      ]
    }
  ]
}